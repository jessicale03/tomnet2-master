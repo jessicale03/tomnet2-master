{
 "cells": [
  {
   "cell_type": "markdown",
   "id": "c1fc24aa",
   "metadata": {},
   "source": [
    "# State distribution profiles"
   ]
  },
  {
   "cell_type": "code",
   "execution_count": 12,
   "id": "32781a02",
   "metadata": {},
   "outputs": [],
   "source": [
    "import pandas as pd\n",
    "import plotly.graph_objects as go\n",
    "from plotly.subplots import make_subplots\n",
    "import numpy as np\n",
    "import glob\n",
    "import statistics as st"
   ]
  },
  {
   "cell_type": "code",
   "execution_count": 13,
   "id": "5659c10c",
   "metadata": {
    "scrolled": true
   },
   "outputs": [],
   "source": [
    "df = pd.read_csv('/Users/elaine/Desktop/TOMNET/tomnet-project/tomnet2/models/working_model/test_on_simulation_data/training_result/caches/cache_dS101_v1_commit_698004/prediction/Traj_dS101_Query_dS101_pred/final_sum_predictions.csv')\n",
    "sf = glob.glob('/Users/elaine/Desktop/TOMNET/tomnet-project/tomnet2/models/working_model/test_on_simulation_data/training_result/caches/cache_dS101_v1_commit_698004/prediction/Traj_dS101_Query_dS005-104/final_sum_*.csv')\n",
    "dfgt = pd.read_csv('/Users/elaine/Desktop/TOMNET/tomnet-project/tomnet2/models/working_model/test_on_simulation_data/training_result/caches/cache_dS101_v1_commit_698004/prediction/Traj_dS101_Query_dS101_pred/final_target_predictions.csv')\n",
    "sft = glob.glob('/Users/elaine/Desktop/TOMNET/tomnet-project/tomnet2/models/working_model/test_on_simulation_data/training_result/caches/cache_dS101_v1_commit_698004/prediction/Traj_dS101_Query_dS005-104/final_target_*.csv')\n",
    "x = np.arange(10)"
   ]
  },
  {
   "cell_type": "code",
   "execution_count": 14,
   "id": "c93916f6",
   "metadata": {},
   "outputs": [
    {
     "data": {
      "application/vnd.plotly.v1+json": {
       "config": {
        "plotlyServerURL": "https://plot.ly"
       },
       "data": [
        {
         "legendgroup": "1",
         "line": {
          "color": "rgba(200, 200, 200, 0.3)"
         },
         "mode": "lines",
         "showlegend": false,
         "type": "scatter",
         "x": [
          0,
          1,
          2,
          3,
          4,
          5,
          6,
          7,
          8,
          9
         ],
         "y": [
          238,
          234,
          238,
          0,
          190,
          5,
          29,
          83,
          0,
          158
         ]
        },
        {
         "legendgroup": "1",
         "line": {
          "color": "rgba(200, 200, 200, 0.3)"
         },
         "mode": "lines",
         "showlegend": false,
         "type": "scatter",
         "x": [
          0,
          1,
          2,
          3,
          4,
          5,
          6,
          7,
          8,
          9
         ],
         "y": [
          222,
          261,
          233,
          0,
          192,
          5,
          25,
          77,
          0,
          156
         ]
        },
        {
         "legendgroup": "1",
         "line": {
          "color": "rgba(200, 200, 200, 0.3)"
         },
         "mode": "lines",
         "showlegend": false,
         "type": "scatter",
         "x": [
          0,
          1,
          2,
          3,
          4,
          5,
          6,
          7,
          8,
          9
         ],
         "y": [
          227,
          234,
          220,
          0,
          204,
          3,
          21,
          64,
          0,
          157
         ]
        },
        {
         "legendgroup": "1",
         "line": {
          "color": "rgba(200, 200, 200, 0.3)"
         },
         "mode": "lines",
         "showlegend": false,
         "type": "scatter",
         "x": [
          0,
          1,
          2,
          3,
          4,
          5,
          6,
          7,
          8,
          9
         ],
         "y": [
          234,
          254,
          231,
          1,
          200,
          4,
          19,
          72,
          0,
          156
         ]
        },
        {
         "legendgroup": "1",
         "line": {
          "color": "rgba(200, 200, 200, 0.3)"
         },
         "mode": "lines",
         "showlegend": false,
         "type": "scatter",
         "x": [
          0,
          1,
          2,
          3,
          4,
          5,
          6,
          7,
          8,
          9
         ],
         "y": [
          230,
          260,
          244,
          1,
          197,
          8,
          22,
          66,
          0,
          147
         ]
        },
        {
         "legendgroup": "1",
         "line": {
          "color": "rgba(200, 200, 200, 0.3)"
         },
         "mode": "lines",
         "showlegend": false,
         "type": "scatter",
         "x": [
          0,
          1,
          2,
          3,
          4,
          5,
          6,
          7,
          8,
          9
         ],
         "y": [
          207,
          230,
          236,
          0,
          205,
          7,
          23,
          78,
          0,
          166
         ]
        },
        {
         "legendgroup": "1",
         "line": {
          "color": "rgba(200, 200, 200, 0.3)"
         },
         "mode": "lines",
         "showlegend": false,
         "type": "scatter",
         "x": [
          0,
          1,
          2,
          3,
          4,
          5,
          6,
          7,
          8,
          9
         ],
         "y": [
          244,
          243,
          235,
          0,
          194,
          9,
          24,
          63,
          0,
          150
         ]
        },
        {
         "legendgroup": "1",
         "line": {
          "color": "rgba(200, 200, 200, 0.3)"
         },
         "mode": "lines",
         "showlegend": false,
         "type": "scatter",
         "x": [
          0,
          1,
          2,
          3,
          4,
          5,
          6,
          7,
          8,
          9
         ],
         "y": [
          233,
          243,
          222,
          0,
          181,
          5,
          19,
          75,
          0,
          138
         ]
        },
        {
         "legendgroup": "1",
         "line": {
          "color": "rgba(200, 200, 200, 0.3)"
         },
         "mode": "lines",
         "showlegend": false,
         "type": "scatter",
         "x": [
          0,
          1,
          2,
          3,
          4,
          5,
          6,
          7,
          8,
          9
         ],
         "y": [
          234,
          242,
          223,
          0,
          194,
          1,
          22,
          61,
          0,
          147
         ]
        },
        {
         "legendgroup": "1",
         "line": {
          "color": "rgba(200, 200, 200, 0.3)"
         },
         "mode": "lines",
         "showlegend": false,
         "type": "scatter",
         "x": [
          0,
          1,
          2,
          3,
          4,
          5,
          6,
          7,
          8,
          9
         ],
         "y": [
          225,
          237,
          225,
          0,
          194,
          4,
          24,
          78,
          0,
          153
         ]
        },
        {
         "legendgroup": "1",
         "line": {
          "color": "rgba(200, 200, 200, 0.3)"
         },
         "mode": "lines",
         "showlegend": false,
         "type": "scatter",
         "x": [
          0,
          1,
          2,
          3,
          4,
          5,
          6,
          7,
          8,
          9
         ],
         "y": [
          223,
          241,
          230,
          0,
          182,
          5,
          14,
          71,
          0,
          158
         ]
        },
        {
         "legendgroup": "1",
         "line": {
          "color": "rgba(200, 200, 200, 0.3)"
         },
         "mode": "lines",
         "showlegend": false,
         "type": "scatter",
         "x": [
          0,
          1,
          2,
          3,
          4,
          5,
          6,
          7,
          8,
          9
         ],
         "y": [
          219,
          242,
          228,
          1,
          199,
          8,
          18,
          72,
          0,
          150
         ]
        },
        {
         "legendgroup": "1",
         "line": {
          "color": "rgba(200, 200, 200, 0.3)"
         },
         "mode": "lines",
         "showlegend": false,
         "type": "scatter",
         "x": [
          0,
          1,
          2,
          3,
          4,
          5,
          6,
          7,
          8,
          9
         ],
         "y": [
          229,
          235,
          235,
          0,
          196,
          5,
          19,
          63,
          0,
          137
         ]
        },
        {
         "legendgroup": "1",
         "line": {
          "color": "rgba(200, 200, 200, 0.3)"
         },
         "mode": "lines",
         "showlegend": false,
         "type": "scatter",
         "x": [
          0,
          1,
          2,
          3,
          4,
          5,
          6,
          7,
          8,
          9
         ],
         "y": [
          228,
          247,
          227,
          0,
          189,
          7,
          18,
          75,
          0,
          164
         ]
        },
        {
         "legendgroup": "1",
         "line": {
          "color": "rgba(200, 200, 200, 0.3)"
         },
         "mode": "lines",
         "showlegend": false,
         "type": "scatter",
         "x": [
          0,
          1,
          2,
          3,
          4,
          5,
          6,
          7,
          8,
          9
         ],
         "y": [
          224,
          236,
          252,
          0,
          203,
          3,
          17,
          66,
          0,
          149
         ]
        },
        {
         "legendgroup": "1",
         "line": {
          "color": "rgba(200, 200, 200, 0.3)"
         },
         "mode": "lines",
         "showlegend": false,
         "type": "scatter",
         "x": [
          0,
          1,
          2,
          3,
          4,
          5,
          6,
          7,
          8,
          9
         ],
         "y": [
          219,
          236,
          238,
          0,
          188,
          6,
          18,
          68,
          0,
          147
         ]
        },
        {
         "legendgroup": "1",
         "line": {
          "color": "rgba(200, 200, 200, 0.3)"
         },
         "mode": "lines",
         "showlegend": false,
         "type": "scatter",
         "x": [
          0,
          1,
          2,
          3,
          4,
          5,
          6,
          7,
          8,
          9
         ],
         "y": [
          229,
          248,
          244,
          0,
          191,
          9,
          22,
          71,
          0,
          151
         ]
        },
        {
         "legendgroup": "1",
         "line": {
          "color": "rgba(200, 200, 200, 0.3)"
         },
         "mode": "lines",
         "showlegend": false,
         "type": "scatter",
         "x": [
          0,
          1,
          2,
          3,
          4,
          5,
          6,
          7,
          8,
          9
         ],
         "y": [
          227,
          239,
          233,
          0,
          202,
          7,
          20,
          67,
          0,
          147
         ]
        },
        {
         "legendgroup": "1",
         "line": {
          "color": "rgba(200, 200, 200, 0.3)"
         },
         "mode": "lines",
         "showlegend": false,
         "type": "scatter",
         "x": [
          0,
          1,
          2,
          3,
          4,
          5,
          6,
          7,
          8,
          9
         ],
         "y": [
          220,
          236,
          228,
          0,
          191,
          5,
          17,
          68,
          0,
          152
         ]
        },
        {
         "legendgroup": "1",
         "line": {
          "color": "rgba(200, 200, 200, 0.3)"
         },
         "mode": "lines",
         "showlegend": false,
         "type": "scatter",
         "x": [
          0,
          1,
          2,
          3,
          4,
          5,
          6,
          7,
          8,
          9
         ],
         "y": [
          239,
          258,
          235,
          0,
          194,
          1,
          18,
          80,
          0,
          145
         ]
        },
        {
         "legendgroup": "1",
         "line": {
          "color": "rgba(200, 200, 200, 0.3)"
         },
         "mode": "lines",
         "showlegend": false,
         "type": "scatter",
         "x": [
          0,
          1,
          2,
          3,
          4,
          5,
          6,
          7,
          8,
          9
         ],
         "y": [
          239,
          256,
          243,
          0,
          187,
          4,
          19,
          75,
          0,
          150
         ]
        },
        {
         "legendgroup": "1",
         "line": {
          "color": "rgba(200, 200, 200, 0.3)"
         },
         "mode": "lines",
         "showlegend": false,
         "type": "scatter",
         "x": [
          0,
          1,
          2,
          3,
          4,
          5,
          6,
          7,
          8,
          9
         ],
         "y": [
          233,
          240,
          232,
          0,
          193,
          2,
          23,
          85,
          0,
          161
         ]
        },
        {
         "legendgroup": "1",
         "line": {
          "color": "rgba(200, 200, 200, 0.3)"
         },
         "mode": "lines",
         "showlegend": false,
         "type": "scatter",
         "x": [
          0,
          1,
          2,
          3,
          4,
          5,
          6,
          7,
          8,
          9
         ],
         "y": [
          231,
          250,
          242,
          0,
          192,
          8,
          17,
          75,
          0,
          158
         ]
        },
        {
         "legendgroup": "1",
         "line": {
          "color": "rgba(200, 200, 200, 0.3)"
         },
         "mode": "lines",
         "showlegend": false,
         "type": "scatter",
         "x": [
          0,
          1,
          2,
          3,
          4,
          5,
          6,
          7,
          8,
          9
         ],
         "y": [
          221,
          231,
          229,
          0,
          196,
          9,
          20,
          76,
          0,
          135
         ]
        },
        {
         "legendgroup": "1",
         "line": {
          "color": "rgba(200, 200, 200, 0.3)"
         },
         "mode": "lines",
         "showlegend": false,
         "type": "scatter",
         "x": [
          0,
          1,
          2,
          3,
          4,
          5,
          6,
          7,
          8,
          9
         ],
         "y": [
          213,
          230,
          217,
          0,
          206,
          6,
          18,
          76,
          0,
          143
         ]
        },
        {
         "legendgroup": "1",
         "line": {
          "color": "rgba(200, 200, 200, 0.3)"
         },
         "mode": "lines",
         "showlegend": false,
         "type": "scatter",
         "x": [
          0,
          1,
          2,
          3,
          4,
          5,
          6,
          7,
          8,
          9
         ],
         "y": [
          222,
          211,
          232,
          0,
          200,
          7,
          24,
          66,
          0,
          153
         ]
        },
        {
         "legendgroup": "1",
         "line": {
          "color": "rgba(200, 200, 200, 0.3)"
         },
         "mode": "lines",
         "showlegend": false,
         "type": "scatter",
         "x": [
          0,
          1,
          2,
          3,
          4,
          5,
          6,
          7,
          8,
          9
         ],
         "y": [
          232,
          255,
          229,
          0,
          191,
          5,
          19,
          75,
          0,
          153
         ]
        },
        {
         "legendgroup": "1",
         "line": {
          "color": "rgba(200, 200, 200, 0.3)"
         },
         "mode": "lines",
         "showlegend": false,
         "type": "scatter",
         "x": [
          0,
          1,
          2,
          3,
          4,
          5,
          6,
          7,
          8,
          9
         ],
         "y": [
          230,
          242,
          214,
          0,
          192,
          3,
          21,
          91,
          0,
          158
         ]
        },
        {
         "legendgroup": "1",
         "line": {
          "color": "rgba(200, 200, 200, 0.3)"
         },
         "mode": "lines",
         "showlegend": false,
         "type": "scatter",
         "x": [
          0,
          1,
          2,
          3,
          4,
          5,
          6,
          7,
          8,
          9
         ],
         "y": [
          234,
          229,
          228,
          0,
          192,
          7,
          19,
          78,
          0,
          144
         ]
        },
        {
         "legendgroup": "1",
         "line": {
          "color": "rgba(200, 200, 200, 0.3)"
         },
         "mode": "lines",
         "showlegend": false,
         "type": "scatter",
         "x": [
          0,
          1,
          2,
          3,
          4,
          5,
          6,
          7,
          8,
          9
         ],
         "y": [
          221,
          256,
          233,
          0,
          185,
          4,
          23,
          69,
          0,
          158
         ]
        },
        {
         "legendgroup": "1",
         "line": {
          "color": "rgba(200, 200, 200, 0.3)"
         },
         "mode": "lines",
         "showlegend": false,
         "type": "scatter",
         "x": [
          0,
          1,
          2,
          3,
          4,
          5,
          6,
          7,
          8,
          9
         ],
         "y": [
          212,
          229,
          227,
          1,
          205,
          5,
          21,
          79,
          0,
          142
         ]
        },
        {
         "legendgroup": "1",
         "line": {
          "color": "rgba(200, 200, 200, 0.3)"
         },
         "mode": "lines",
         "showlegend": false,
         "type": "scatter",
         "x": [
          0,
          1,
          2,
          3,
          4,
          5,
          6,
          7,
          8,
          9
         ],
         "y": [
          210,
          244,
          233,
          0,
          200,
          6,
          18,
          75,
          0,
          150
         ]
        },
        {
         "legendgroup": "1",
         "line": {
          "color": "rgba(200, 200, 200, 0.3)"
         },
         "mode": "lines",
         "showlegend": false,
         "type": "scatter",
         "x": [
          0,
          1,
          2,
          3,
          4,
          5,
          6,
          7,
          8,
          9
         ],
         "y": [
          230,
          243,
          232,
          0,
          192,
          6,
          19,
          68,
          0,
          148
         ]
        },
        {
         "legendgroup": "1",
         "line": {
          "color": "rgba(200, 200, 200, 0.3)"
         },
         "mode": "lines",
         "showlegend": false,
         "type": "scatter",
         "x": [
          0,
          1,
          2,
          3,
          4,
          5,
          6,
          7,
          8,
          9
         ],
         "y": [
          222,
          229,
          235,
          0,
          179,
          5,
          28,
          84,
          0,
          160
         ]
        },
        {
         "legendgroup": "1",
         "line": {
          "color": "rgba(200, 200, 200, 0.3)"
         },
         "mode": "lines",
         "showlegend": false,
         "type": "scatter",
         "x": [
          0,
          1,
          2,
          3,
          4,
          5,
          6,
          7,
          8,
          9
         ],
         "y": [
          220,
          237,
          248,
          0,
          201,
          2,
          20,
          70,
          0,
          142
         ]
        },
        {
         "legendgroup": "1",
         "line": {
          "color": "rgba(200, 200, 200, 0.3)"
         },
         "mode": "lines",
         "showlegend": false,
         "type": "scatter",
         "x": [
          0,
          1,
          2,
          3,
          4,
          5,
          6,
          7,
          8,
          9
         ],
         "y": [
          242,
          243,
          251,
          0,
          190,
          4,
          27,
          80,
          0,
          158
         ]
        },
        {
         "legendgroup": "1",
         "line": {
          "color": "rgba(200, 200, 200, 0.3)"
         },
         "mode": "lines",
         "showlegend": false,
         "type": "scatter",
         "x": [
          0,
          1,
          2,
          3,
          4,
          5,
          6,
          7,
          8,
          9
         ],
         "y": [
          226,
          251,
          228,
          0,
          197,
          7,
          21,
          71,
          0,
          153
         ]
        },
        {
         "legendgroup": "1",
         "line": {
          "color": "rgba(200, 200, 200, 0.3)"
         },
         "mode": "lines",
         "showlegend": false,
         "type": "scatter",
         "x": [
          0,
          1,
          2,
          3,
          4,
          5,
          6,
          7,
          8,
          9
         ],
         "y": [
          222,
          249,
          243,
          0,
          184,
          3,
          22,
          76,
          0,
          155
         ]
        },
        {
         "legendgroup": "1",
         "line": {
          "color": "rgba(200, 200, 200, 0.3)"
         },
         "mode": "lines",
         "showlegend": false,
         "type": "scatter",
         "x": [
          0,
          1,
          2,
          3,
          4,
          5,
          6,
          7,
          8,
          9
         ],
         "y": [
          210,
          238,
          229,
          0,
          203,
          3,
          23,
          68,
          0,
          148
         ]
        },
        {
         "legendgroup": "1",
         "line": {
          "color": "rgba(200, 200, 200, 0.3)"
         },
         "mode": "lines",
         "showlegend": false,
         "type": "scatter",
         "x": [
          0,
          1,
          2,
          3,
          4,
          5,
          6,
          7,
          8,
          9
         ],
         "y": [
          238,
          237,
          237,
          0,
          184,
          8,
          25,
          72,
          0,
          158
         ]
        },
        {
         "legendgroup": "1",
         "line": {
          "color": "rgba(200, 200, 200, 0.3)"
         },
         "mode": "lines",
         "showlegend": false,
         "type": "scatter",
         "x": [
          0,
          1,
          2,
          3,
          4,
          5,
          6,
          7,
          8,
          9
         ],
         "y": [
          243,
          225,
          221,
          0,
          204,
          2,
          25,
          73,
          0,
          149
         ]
        },
        {
         "legendgroup": "1",
         "line": {
          "color": "rgba(200, 200, 200, 0.3)"
         },
         "mode": "lines",
         "showlegend": false,
         "type": "scatter",
         "x": [
          0,
          1,
          2,
          3,
          4,
          5,
          6,
          7,
          8,
          9
         ],
         "y": [
          229,
          246,
          233,
          0,
          194,
          5,
          14,
          68,
          0,
          147
         ]
        },
        {
         "legendgroup": "1",
         "line": {
          "color": "rgba(200, 200, 200, 0.3)"
         },
         "mode": "lines",
         "showlegend": false,
         "type": "scatter",
         "x": [
          0,
          1,
          2,
          3,
          4,
          5,
          6,
          7,
          8,
          9
         ],
         "y": [
          244,
          225,
          250,
          0,
          196,
          4,
          28,
          84,
          0,
          160
         ]
        },
        {
         "legendgroup": "1",
         "line": {
          "color": "rgba(200, 200, 200, 0.3)"
         },
         "mode": "lines",
         "showlegend": false,
         "type": "scatter",
         "x": [
          0,
          1,
          2,
          3,
          4,
          5,
          6,
          7,
          8,
          9
         ],
         "y": [
          245,
          260,
          242,
          0,
          192,
          7,
          21,
          68,
          0,
          143
         ]
        },
        {
         "legendgroup": "1",
         "line": {
          "color": "rgba(200, 200, 200, 0.3)"
         },
         "mode": "lines",
         "showlegend": false,
         "type": "scatter",
         "x": [
          0,
          1,
          2,
          3,
          4,
          5,
          6,
          7,
          8,
          9
         ],
         "y": [
          227,
          242,
          231,
          0,
          188,
          6,
          24,
          77,
          0,
          170
         ]
        },
        {
         "legendgroup": "1",
         "line": {
          "color": "rgba(200, 200, 200, 0.3)"
         },
         "mode": "lines",
         "showlegend": false,
         "type": "scatter",
         "x": [
          0,
          1,
          2,
          3,
          4,
          5,
          6,
          7,
          8,
          9
         ],
         "y": [
          221,
          243,
          240,
          0,
          177,
          4,
          17,
          73,
          0,
          159
         ]
        },
        {
         "legendgroup": "1",
         "line": {
          "color": "rgba(200, 200, 200, 0.3)"
         },
         "mode": "lines",
         "showlegend": false,
         "type": "scatter",
         "x": [
          0,
          1,
          2,
          3,
          4,
          5,
          6,
          7,
          8,
          9
         ],
         "y": [
          226,
          235,
          243,
          0,
          179,
          3,
          18,
          79,
          0,
          149
         ]
        },
        {
         "legendgroup": "1",
         "line": {
          "color": "rgba(200, 200, 200, 0.3)"
         },
         "mode": "lines",
         "showlegend": false,
         "type": "scatter",
         "x": [
          0,
          1,
          2,
          3,
          4,
          5,
          6,
          7,
          8,
          9
         ],
         "y": [
          243,
          240,
          212,
          0,
          193,
          4,
          24,
          95,
          0,
          161
         ]
        },
        {
         "legendgroup": "1",
         "line": {
          "color": "rgba(200, 200, 200, 0.3)"
         },
         "mode": "lines",
         "showlegend": false,
         "type": "scatter",
         "x": [
          0,
          1,
          2,
          3,
          4,
          5,
          6,
          7,
          8,
          9
         ],
         "y": [
          233,
          238,
          222,
          0,
          194,
          10,
          32,
          83,
          0,
          143
         ]
        },
        {
         "legendgroup": "1",
         "line": {
          "color": "rgba(200, 200, 200, 0.3)"
         },
         "mode": "lines",
         "showlegend": false,
         "type": "scatter",
         "x": [
          0,
          1,
          2,
          3,
          4,
          5,
          6,
          7,
          8,
          9
         ],
         "y": [
          227,
          241,
          241,
          0,
          191,
          11,
          24,
          66,
          0,
          148
         ]
        },
        {
         "legendgroup": "1",
         "line": {
          "color": "rgba(200, 200, 200, 0.3)"
         },
         "mode": "lines",
         "showlegend": false,
         "type": "scatter",
         "x": [
          0,
          1,
          2,
          3,
          4,
          5,
          6,
          7,
          8,
          9
         ],
         "y": [
          228,
          238,
          242,
          0,
          187,
          6,
          23,
          78,
          0,
          153
         ]
        },
        {
         "legendgroup": "1",
         "line": {
          "color": "rgba(200, 200, 200, 0.3)"
         },
         "mode": "lines",
         "showlegend": false,
         "type": "scatter",
         "x": [
          0,
          1,
          2,
          3,
          4,
          5,
          6,
          7,
          8,
          9
         ],
         "y": [
          224,
          229,
          231,
          0,
          185,
          3,
          23,
          60,
          0,
          148
         ]
        },
        {
         "legendgroup": "1",
         "line": {
          "color": "rgba(200, 200, 200, 0.3)"
         },
         "mode": "lines",
         "showlegend": false,
         "type": "scatter",
         "x": [
          0,
          1,
          2,
          3,
          4,
          5,
          6,
          7,
          8,
          9
         ],
         "y": [
          217,
          250,
          238,
          0,
          198,
          5,
          20,
          77,
          0,
          148
         ]
        },
        {
         "legendgroup": "1",
         "line": {
          "color": "rgba(200, 200, 200, 0.3)"
         },
         "mode": "lines",
         "showlegend": false,
         "type": "scatter",
         "x": [
          0,
          1,
          2,
          3,
          4,
          5,
          6,
          7,
          8,
          9
         ],
         "y": [
          213,
          229,
          247,
          0,
          197,
          3,
          19,
          77,
          0,
          153
         ]
        },
        {
         "legendgroup": "1",
         "line": {
          "color": "rgba(200, 200, 200, 0.3)"
         },
         "mode": "lines",
         "showlegend": false,
         "type": "scatter",
         "x": [
          0,
          1,
          2,
          3,
          4,
          5,
          6,
          7,
          8,
          9
         ],
         "y": [
          228,
          251,
          236,
          0,
          196,
          6,
          13,
          68,
          0,
          153
         ]
        },
        {
         "legendgroup": "1",
         "line": {
          "color": "rgba(200, 200, 200, 0.3)"
         },
         "mode": "lines",
         "showlegend": false,
         "type": "scatter",
         "x": [
          0,
          1,
          2,
          3,
          4,
          5,
          6,
          7,
          8,
          9
         ],
         "y": [
          227,
          240,
          236,
          0,
          190,
          2,
          22,
          81,
          0,
          139
         ]
        },
        {
         "legendgroup": "1",
         "line": {
          "color": "rgba(200, 200, 200, 0.3)"
         },
         "mode": "lines",
         "showlegend": false,
         "type": "scatter",
         "x": [
          0,
          1,
          2,
          3,
          4,
          5,
          6,
          7,
          8,
          9
         ],
         "y": [
          246,
          237,
          240,
          0,
          199,
          9,
          25,
          66,
          0,
          148
         ]
        },
        {
         "legendgroup": "1",
         "line": {
          "color": "rgba(200, 200, 200, 0.3)"
         },
         "mode": "lines",
         "showlegend": false,
         "type": "scatter",
         "x": [
          0,
          1,
          2,
          3,
          4,
          5,
          6,
          7,
          8,
          9
         ],
         "y": [
          240,
          251,
          216,
          0,
          193,
          2,
          17,
          71,
          0,
          147
         ]
        },
        {
         "legendgroup": "1",
         "line": {
          "color": "rgba(200, 200, 200, 0.3)"
         },
         "mode": "lines",
         "showlegend": false,
         "type": "scatter",
         "x": [
          0,
          1,
          2,
          3,
          4,
          5,
          6,
          7,
          8,
          9
         ],
         "y": [
          234,
          248,
          225,
          1,
          195,
          4,
          20,
          70,
          0,
          153
         ]
        },
        {
         "legendgroup": "1",
         "line": {
          "color": "rgba(200, 200, 200, 0.3)"
         },
         "mode": "lines",
         "showlegend": false,
         "type": "scatter",
         "x": [
          0,
          1,
          2,
          3,
          4,
          5,
          6,
          7,
          8,
          9
         ],
         "y": [
          242,
          239,
          238,
          1,
          186,
          6,
          20,
          68,
          0,
          152
         ]
        },
        {
         "legendgroup": "1",
         "line": {
          "color": "rgba(200, 200, 200, 0.3)"
         },
         "mode": "lines",
         "showlegend": false,
         "type": "scatter",
         "x": [
          0,
          1,
          2,
          3,
          4,
          5,
          6,
          7,
          8,
          9
         ],
         "y": [
          233,
          225,
          235,
          0,
          184,
          3,
          29,
          94,
          0,
          154
         ]
        },
        {
         "legendgroup": "1",
         "line": {
          "color": "rgba(200, 200, 200, 0.3)"
         },
         "mode": "lines",
         "showlegend": false,
         "type": "scatter",
         "x": [
          0,
          1,
          2,
          3,
          4,
          5,
          6,
          7,
          8,
          9
         ],
         "y": [
          227,
          242,
          229,
          1,
          188,
          6,
          25,
          72,
          0,
          144
         ]
        },
        {
         "legendgroup": "1",
         "line": {
          "color": "rgba(200, 200, 200, 0.3)"
         },
         "mode": "lines",
         "showlegend": false,
         "type": "scatter",
         "x": [
          0,
          1,
          2,
          3,
          4,
          5,
          6,
          7,
          8,
          9
         ],
         "y": [
          226,
          232,
          228,
          0,
          193,
          6,
          27,
          78,
          0,
          161
         ]
        },
        {
         "legendgroup": "1",
         "line": {
          "color": "rgba(200, 200, 200, 0.3)"
         },
         "mode": "lines",
         "showlegend": false,
         "type": "scatter",
         "x": [
          0,
          1,
          2,
          3,
          4,
          5,
          6,
          7,
          8,
          9
         ],
         "y": [
          234,
          226,
          224,
          0,
          198,
          2,
          28,
          80,
          0,
          156
         ]
        },
        {
         "legendgroup": "1",
         "line": {
          "color": "rgba(200, 200, 200, 0.3)"
         },
         "mode": "lines",
         "showlegend": false,
         "type": "scatter",
         "x": [
          0,
          1,
          2,
          3,
          4,
          5,
          6,
          7,
          8,
          9
         ],
         "y": [
          233,
          231,
          227,
          0,
          200,
          3,
          23,
          82,
          0,
          162
         ]
        },
        {
         "legendgroup": "1",
         "line": {
          "color": "rgba(200, 200, 200, 0.3)"
         },
         "mode": "lines",
         "showlegend": false,
         "type": "scatter",
         "x": [
          0,
          1,
          2,
          3,
          4,
          5,
          6,
          7,
          8,
          9
         ],
         "y": [
          225,
          233,
          250,
          0,
          198,
          8,
          19,
          71,
          0,
          144
         ]
        },
        {
         "legendgroup": "1",
         "line": {
          "color": "rgba(200, 200, 200, 0.3)"
         },
         "mode": "lines",
         "showlegend": false,
         "type": "scatter",
         "x": [
          0,
          1,
          2,
          3,
          4,
          5,
          6,
          7,
          8,
          9
         ],
         "y": [
          227,
          249,
          236,
          1,
          203,
          9,
          20,
          64,
          0,
          155
         ]
        },
        {
         "legendgroup": "1",
         "line": {
          "color": "rgba(200, 200, 200, 0.3)"
         },
         "mode": "lines",
         "showlegend": false,
         "type": "scatter",
         "x": [
          0,
          1,
          2,
          3,
          4,
          5,
          6,
          7,
          8,
          9
         ],
         "y": [
          215,
          233,
          220,
          1,
          188,
          5,
          19,
          65,
          0,
          141
         ]
        },
        {
         "legendgroup": "1",
         "line": {
          "color": "rgba(200, 200, 200, 0.3)"
         },
         "mode": "lines",
         "showlegend": false,
         "type": "scatter",
         "x": [
          0,
          1,
          2,
          3,
          4,
          5,
          6,
          7,
          8,
          9
         ],
         "y": [
          230,
          249,
          221,
          1,
          188,
          7,
          22,
          75,
          0,
          150
         ]
        },
        {
         "legendgroup": "1",
         "line": {
          "color": "rgba(200, 200, 200, 0.3)"
         },
         "mode": "lines",
         "showlegend": false,
         "type": "scatter",
         "x": [
          0,
          1,
          2,
          3,
          4,
          5,
          6,
          7,
          8,
          9
         ],
         "y": [
          223,
          249,
          240,
          0,
          186,
          3,
          20,
          77,
          0,
          143
         ]
        },
        {
         "legendgroup": "1",
         "line": {
          "color": "rgba(200, 200, 200, 0.3)"
         },
         "mode": "lines",
         "showlegend": false,
         "type": "scatter",
         "x": [
          0,
          1,
          2,
          3,
          4,
          5,
          6,
          7,
          8,
          9
         ],
         "y": [
          215,
          246,
          237,
          0,
          193,
          4,
          16,
          74,
          0,
          143
         ]
        },
        {
         "legendgroup": "1",
         "line": {
          "color": "rgba(200, 200, 200, 0.3)"
         },
         "mode": "lines",
         "showlegend": false,
         "type": "scatter",
         "x": [
          0,
          1,
          2,
          3,
          4,
          5,
          6,
          7,
          8,
          9
         ],
         "y": [
          229,
          245,
          221,
          0,
          207,
          7,
          20,
          69,
          0,
          134
         ]
        },
        {
         "legendgroup": "1",
         "line": {
          "color": "rgba(200, 200, 200, 0.3)"
         },
         "mode": "lines",
         "showlegend": false,
         "type": "scatter",
         "x": [
          0,
          1,
          2,
          3,
          4,
          5,
          6,
          7,
          8,
          9
         ],
         "y": [
          235,
          241,
          232,
          0,
          195,
          9,
          11,
          69,
          0,
          148
         ]
        },
        {
         "legendgroup": "1",
         "line": {
          "color": "rgba(200, 200, 200, 0.3)"
         },
         "mode": "lines",
         "showlegend": false,
         "type": "scatter",
         "x": [
          0,
          1,
          2,
          3,
          4,
          5,
          6,
          7,
          8,
          9
         ],
         "y": [
          215,
          240,
          234,
          1,
          196,
          4,
          16,
          72,
          0,
          139
         ]
        },
        {
         "legendgroup": "1",
         "line": {
          "color": "rgba(200, 200, 200, 0.3)"
         },
         "mode": "lines",
         "showlegend": false,
         "type": "scatter",
         "x": [
          0,
          1,
          2,
          3,
          4,
          5,
          6,
          7,
          8,
          9
         ],
         "y": [
          228,
          232,
          236,
          0,
          192,
          4,
          21,
          72,
          0,
          137
         ]
        },
        {
         "legendgroup": "1",
         "line": {
          "color": "rgba(200, 200, 200, 0.3)"
         },
         "mode": "lines",
         "showlegend": false,
         "type": "scatter",
         "x": [
          0,
          1,
          2,
          3,
          4,
          5,
          6,
          7,
          8,
          9
         ],
         "y": [
          206,
          230,
          259,
          0,
          196,
          5,
          17,
          72,
          0,
          154
         ]
        },
        {
         "legendgroup": "1",
         "line": {
          "color": "rgba(200, 200, 200, 0.3)"
         },
         "mode": "lines",
         "showlegend": false,
         "type": "scatter",
         "x": [
          0,
          1,
          2,
          3,
          4,
          5,
          6,
          7,
          8,
          9
         ],
         "y": [
          240,
          240,
          228,
          0,
          190,
          5,
          15,
          75,
          0,
          143
         ]
        },
        {
         "legendgroup": "1",
         "line": {
          "color": "rgba(200, 200, 200, 0.3)"
         },
         "mode": "lines",
         "showlegend": false,
         "type": "scatter",
         "x": [
          0,
          1,
          2,
          3,
          4,
          5,
          6,
          7,
          8,
          9
         ],
         "y": [
          244,
          247,
          221,
          0,
          187,
          3,
          23,
          81,
          0,
          136
         ]
        },
        {
         "legendgroup": "1",
         "line": {
          "color": "rgba(200, 200, 200, 0.3)"
         },
         "mode": "lines",
         "showlegend": false,
         "type": "scatter",
         "x": [
          0,
          1,
          2,
          3,
          4,
          5,
          6,
          7,
          8,
          9
         ],
         "y": [
          230,
          250,
          224,
          0,
          196,
          6,
          15,
          75,
          0,
          139
         ]
        },
        {
         "legendgroup": "1",
         "line": {
          "color": "rgba(200, 200, 200, 0.3)"
         },
         "mode": "lines",
         "showlegend": false,
         "type": "scatter",
         "x": [
          0,
          1,
          2,
          3,
          4,
          5,
          6,
          7,
          8,
          9
         ],
         "y": [
          219,
          243,
          225,
          0,
          221,
          6,
          22,
          84,
          0,
          146
         ]
        },
        {
         "legendgroup": "1",
         "line": {
          "color": "rgba(200, 200, 200, 0.3)"
         },
         "mode": "lines",
         "showlegend": false,
         "type": "scatter",
         "x": [
          0,
          1,
          2,
          3,
          4,
          5,
          6,
          7,
          8,
          9
         ],
         "y": [
          220,
          238,
          230,
          0,
          187,
          5,
          24,
          80,
          0,
          159
         ]
        },
        {
         "legendgroup": "1",
         "line": {
          "color": "rgba(200, 200, 200, 0.3)"
         },
         "mode": "lines",
         "showlegend": false,
         "type": "scatter",
         "x": [
          0,
          1,
          2,
          3,
          4,
          5,
          6,
          7,
          8,
          9
         ],
         "y": [
          219,
          240,
          225,
          0,
          193,
          5,
          20,
          67,
          0,
          148
         ]
        },
        {
         "legendgroup": "1",
         "line": {
          "color": "rgba(200, 200, 200, 0.3)"
         },
         "mode": "lines",
         "showlegend": false,
         "type": "scatter",
         "x": [
          0,
          1,
          2,
          3,
          4,
          5,
          6,
          7,
          8,
          9
         ],
         "y": [
          219,
          254,
          236,
          0,
          200,
          5,
          21,
          82,
          0,
          143
         ]
        },
        {
         "legendgroup": "1",
         "line": {
          "color": "rgba(200, 200, 200, 0.3)"
         },
         "mode": "lines",
         "showlegend": false,
         "type": "scatter",
         "x": [
          0,
          1,
          2,
          3,
          4,
          5,
          6,
          7,
          8,
          9
         ],
         "y": [
          237,
          241,
          225,
          0,
          181,
          8,
          25,
          85,
          0,
          159
         ]
        },
        {
         "legendgroup": "1",
         "line": {
          "color": "rgba(200, 200, 200, 0.3)"
         },
         "mode": "lines",
         "showlegend": false,
         "type": "scatter",
         "x": [
          0,
          1,
          2,
          3,
          4,
          5,
          6,
          7,
          8,
          9
         ],
         "y": [
          232,
          228,
          225,
          0,
          205,
          5,
          25,
          81,
          0,
          150
         ]
        },
        {
         "legendgroup": "1",
         "line": {
          "color": "rgba(200, 200, 200, 0.3)"
         },
         "mode": "lines",
         "showlegend": false,
         "type": "scatter",
         "x": [
          0,
          1,
          2,
          3,
          4,
          5,
          6,
          7,
          8,
          9
         ],
         "y": [
          231,
          243,
          232,
          0,
          183,
          6,
          17,
          72,
          0,
          150
         ]
        },
        {
         "legendgroup": "1",
         "line": {
          "color": "rgba(200, 200, 200, 0.3)"
         },
         "mode": "lines",
         "showlegend": false,
         "type": "scatter",
         "x": [
          0,
          1,
          2,
          3,
          4,
          5,
          6,
          7,
          8,
          9
         ],
         "y": [
          237,
          253,
          227,
          0,
          202,
          7,
          16,
          71,
          0,
          153
         ]
        },
        {
         "legendgroup": "1",
         "line": {
          "color": "rgba(200, 200, 200, 0.3)"
         },
         "mode": "lines",
         "showlegend": false,
         "type": "scatter",
         "x": [
          0,
          1,
          2,
          3,
          4,
          5,
          6,
          7,
          8,
          9
         ],
         "y": [
          235,
          233,
          213,
          0,
          210,
          4,
          20,
          87,
          0,
          141
         ]
        },
        {
         "legendgroup": "1",
         "line": {
          "color": "rgba(200, 200, 200, 0.3)"
         },
         "mode": "lines",
         "showlegend": false,
         "type": "scatter",
         "x": [
          0,
          1,
          2,
          3,
          4,
          5,
          6,
          7,
          8,
          9
         ],
         "y": [
          226,
          257,
          238,
          0,
          198,
          5,
          17,
          65,
          0,
          158
         ]
        },
        {
         "legendgroup": "1",
         "line": {
          "color": "rgba(200, 200, 200, 0.3)"
         },
         "mode": "lines",
         "showlegend": false,
         "type": "scatter",
         "x": [
          0,
          1,
          2,
          3,
          4,
          5,
          6,
          7,
          8,
          9
         ],
         "y": [
          213,
          253,
          228,
          0,
          211,
          7,
          16,
          72,
          0,
          160
         ]
        },
        {
         "legendgroup": "1",
         "line": {
          "color": "rgba(200, 200, 200, 0.3)"
         },
         "mode": "lines",
         "showlegend": false,
         "type": "scatter",
         "x": [
          0,
          1,
          2,
          3,
          4,
          5,
          6,
          7,
          8,
          9
         ],
         "y": [
          249,
          248,
          240,
          0,
          187,
          7,
          17,
          66,
          0,
          150
         ]
        },
        {
         "legendgroup": "1",
         "line": {
          "color": "rgba(200, 200, 200, 0.3)"
         },
         "mode": "lines",
         "showlegend": false,
         "type": "scatter",
         "x": [
          0,
          1,
          2,
          3,
          4,
          5,
          6,
          7,
          8,
          9
         ],
         "y": [
          225,
          236,
          231,
          1,
          186,
          6,
          29,
          79,
          0,
          147
         ]
        },
        {
         "legendgroup": "1",
         "line": {
          "color": "rgba(200, 200, 200, 0.3)"
         },
         "mode": "lines",
         "showlegend": false,
         "type": "scatter",
         "x": [
          0,
          1,
          2,
          3,
          4,
          5,
          6,
          7,
          8,
          9
         ],
         "y": [
          226,
          233,
          233,
          0,
          201,
          7,
          23,
          75,
          0,
          144
         ]
        },
        {
         "legendgroup": "1",
         "line": {
          "color": "rgba(200, 200, 200, 0.3)"
         },
         "mode": "lines",
         "showlegend": false,
         "type": "scatter",
         "x": [
          0,
          1,
          2,
          3,
          4,
          5,
          6,
          7,
          8,
          9
         ],
         "y": [
          232,
          230,
          231,
          0,
          206,
          8,
          17,
          69,
          0,
          152
         ]
        },
        {
         "legendgroup": "1",
         "line": {
          "color": "rgba(200, 200, 200, 0.3)"
         },
         "mode": "lines",
         "showlegend": false,
         "type": "scatter",
         "x": [
          0,
          1,
          2,
          3,
          4,
          5,
          6,
          7,
          8,
          9
         ],
         "y": [
          235,
          263,
          246,
          0,
          189,
          6,
          15,
          64,
          0,
          153
         ]
        },
        {
         "legendgroup": "1",
         "line": {
          "color": "rgba(200, 200, 200, 0.3)"
         },
         "mode": "lines",
         "showlegend": false,
         "type": "scatter",
         "x": [
          0,
          1,
          2,
          3,
          4,
          5,
          6,
          7,
          8,
          9
         ],
         "y": [
          237,
          252,
          221,
          0,
          200,
          6,
          23,
          69,
          0,
          142
         ]
        },
        {
         "legendgroup": "1",
         "line": {
          "color": "rgba(200, 200, 200, 0.3)"
         },
         "mode": "lines",
         "showlegend": false,
         "type": "scatter",
         "x": [
          0,
          1,
          2,
          3,
          4,
          5,
          6,
          7,
          8,
          9
         ],
         "y": [
          217,
          248,
          229,
          0,
          197,
          1,
          23,
          85,
          0,
          137
         ]
        },
        {
         "legendgroup": "1",
         "line": {
          "color": "rgba(200, 200, 200, 0.3)"
         },
         "mode": "lines",
         "showlegend": false,
         "type": "scatter",
         "x": [
          0,
          1,
          2,
          3,
          4,
          5,
          6,
          7,
          8,
          9
         ],
         "y": [
          235,
          230,
          250,
          0,
          187,
          5,
          24,
          73,
          0,
          165
         ]
        },
        {
         "legendgroup": "1",
         "line": {
          "color": "rgba(200, 200, 200, 0.3)"
         },
         "mode": "lines",
         "showlegend": false,
         "type": "scatter",
         "x": [
          0,
          1,
          2,
          3,
          4,
          5,
          6,
          7,
          8,
          9
         ],
         "y": [
          243,
          261,
          224,
          0,
          192,
          2,
          23,
          71,
          0,
          132
         ]
        },
        {
         "legendgroup": "1",
         "line": {
          "color": "rgba(200, 200, 200, 0.3)"
         },
         "mode": "lines",
         "showlegend": false,
         "type": "scatter",
         "x": [
          0,
          1,
          2,
          3,
          4,
          5,
          6,
          7,
          8,
          9
         ],
         "y": [
          244,
          238,
          229,
          0,
          205,
          5,
          28,
          71,
          0,
          151
         ]
        },
        {
         "legendgroup": "1",
         "legendrank": 3,
         "line": {
          "color": "rgba(200, 200, 200, 0.9)"
         },
         "mode": "lines",
         "name": "Permuted",
         "type": "scatter",
         "x": [
          0,
          1,
          2,
          3,
          4,
          5,
          6,
          7,
          8,
          9
         ],
         "y": [
          244,
          238,
          229,
          0,
          205,
          5,
          28,
          71,
          0,
          151
         ]
        },
        {
         "legendgroup": "1",
         "legendrank": 1,
         "line": {
          "color": "rgba(0, 0, 0, 1)",
          "dash": "dot"
         },
         "mode": "lines",
         "name": "Truth",
         "type": "scatter",
         "x": [
          0,
          1,
          2,
          3,
          4,
          5,
          6,
          7,
          8,
          9
         ],
         "y": [
          261,
          245,
          246,
          30,
          257,
          23,
          52,
          101,
          7,
          185
         ]
        },
        {
         "legendgroup": "1",
         "legendrank": 2,
         "line": {
          "color": "rgba(255, 0, 0, 1)"
         },
         "mode": "lines",
         "name": "Test",
         "type": "scatter",
         "x": [
          0,
          1,
          2,
          3,
          4,
          5,
          6,
          7,
          8,
          9
         ],
         "y": [
          227,
          241,
          230,
          0,
          207,
          8,
          22,
          63,
          0,
          146
         ]
        }
       ],
       "layout": {
        "height": 400,
        "legend": {
         "x": 0.65,
         "xanchor": "left",
         "y": 0.95,
         "yanchor": "top"
        },
        "margin": {
         "b": 50,
         "l": 350,
         "r": 350,
         "t": 50
        },
        "paper_bgcolor": "rgba(0, 0, 0, 0)",
        "plot_bgcolor": "rgba(0, 0, 0, 0)",
        "template": {
         "data": {
          "bar": [
           {
            "error_x": {
             "color": "#2a3f5f"
            },
            "error_y": {
             "color": "#2a3f5f"
            },
            "marker": {
             "line": {
              "color": "#E5ECF6",
              "width": 0.5
             },
             "pattern": {
              "fillmode": "overlay",
              "size": 10,
              "solidity": 0.2
             }
            },
            "type": "bar"
           }
          ],
          "barpolar": [
           {
            "marker": {
             "line": {
              "color": "#E5ECF6",
              "width": 0.5
             },
             "pattern": {
              "fillmode": "overlay",
              "size": 10,
              "solidity": 0.2
             }
            },
            "type": "barpolar"
           }
          ],
          "carpet": [
           {
            "aaxis": {
             "endlinecolor": "#2a3f5f",
             "gridcolor": "white",
             "linecolor": "white",
             "minorgridcolor": "white",
             "startlinecolor": "#2a3f5f"
            },
            "baxis": {
             "endlinecolor": "#2a3f5f",
             "gridcolor": "white",
             "linecolor": "white",
             "minorgridcolor": "white",
             "startlinecolor": "#2a3f5f"
            },
            "type": "carpet"
           }
          ],
          "choropleth": [
           {
            "colorbar": {
             "outlinewidth": 0,
             "ticks": ""
            },
            "type": "choropleth"
           }
          ],
          "contour": [
           {
            "colorbar": {
             "outlinewidth": 0,
             "ticks": ""
            },
            "colorscale": [
             [
              0,
              "#0d0887"
             ],
             [
              0.1111111111111111,
              "#46039f"
             ],
             [
              0.2222222222222222,
              "#7201a8"
             ],
             [
              0.3333333333333333,
              "#9c179e"
             ],
             [
              0.4444444444444444,
              "#bd3786"
             ],
             [
              0.5555555555555556,
              "#d8576b"
             ],
             [
              0.6666666666666666,
              "#ed7953"
             ],
             [
              0.7777777777777778,
              "#fb9f3a"
             ],
             [
              0.8888888888888888,
              "#fdca26"
             ],
             [
              1,
              "#f0f921"
             ]
            ],
            "type": "contour"
           }
          ],
          "contourcarpet": [
           {
            "colorbar": {
             "outlinewidth": 0,
             "ticks": ""
            },
            "type": "contourcarpet"
           }
          ],
          "heatmap": [
           {
            "colorbar": {
             "outlinewidth": 0,
             "ticks": ""
            },
            "colorscale": [
             [
              0,
              "#0d0887"
             ],
             [
              0.1111111111111111,
              "#46039f"
             ],
             [
              0.2222222222222222,
              "#7201a8"
             ],
             [
              0.3333333333333333,
              "#9c179e"
             ],
             [
              0.4444444444444444,
              "#bd3786"
             ],
             [
              0.5555555555555556,
              "#d8576b"
             ],
             [
              0.6666666666666666,
              "#ed7953"
             ],
             [
              0.7777777777777778,
              "#fb9f3a"
             ],
             [
              0.8888888888888888,
              "#fdca26"
             ],
             [
              1,
              "#f0f921"
             ]
            ],
            "type": "heatmap"
           }
          ],
          "heatmapgl": [
           {
            "colorbar": {
             "outlinewidth": 0,
             "ticks": ""
            },
            "colorscale": [
             [
              0,
              "#0d0887"
             ],
             [
              0.1111111111111111,
              "#46039f"
             ],
             [
              0.2222222222222222,
              "#7201a8"
             ],
             [
              0.3333333333333333,
              "#9c179e"
             ],
             [
              0.4444444444444444,
              "#bd3786"
             ],
             [
              0.5555555555555556,
              "#d8576b"
             ],
             [
              0.6666666666666666,
              "#ed7953"
             ],
             [
              0.7777777777777778,
              "#fb9f3a"
             ],
             [
              0.8888888888888888,
              "#fdca26"
             ],
             [
              1,
              "#f0f921"
             ]
            ],
            "type": "heatmapgl"
           }
          ],
          "histogram": [
           {
            "marker": {
             "pattern": {
              "fillmode": "overlay",
              "size": 10,
              "solidity": 0.2
             }
            },
            "type": "histogram"
           }
          ],
          "histogram2d": [
           {
            "colorbar": {
             "outlinewidth": 0,
             "ticks": ""
            },
            "colorscale": [
             [
              0,
              "#0d0887"
             ],
             [
              0.1111111111111111,
              "#46039f"
             ],
             [
              0.2222222222222222,
              "#7201a8"
             ],
             [
              0.3333333333333333,
              "#9c179e"
             ],
             [
              0.4444444444444444,
              "#bd3786"
             ],
             [
              0.5555555555555556,
              "#d8576b"
             ],
             [
              0.6666666666666666,
              "#ed7953"
             ],
             [
              0.7777777777777778,
              "#fb9f3a"
             ],
             [
              0.8888888888888888,
              "#fdca26"
             ],
             [
              1,
              "#f0f921"
             ]
            ],
            "type": "histogram2d"
           }
          ],
          "histogram2dcontour": [
           {
            "colorbar": {
             "outlinewidth": 0,
             "ticks": ""
            },
            "colorscale": [
             [
              0,
              "#0d0887"
             ],
             [
              0.1111111111111111,
              "#46039f"
             ],
             [
              0.2222222222222222,
              "#7201a8"
             ],
             [
              0.3333333333333333,
              "#9c179e"
             ],
             [
              0.4444444444444444,
              "#bd3786"
             ],
             [
              0.5555555555555556,
              "#d8576b"
             ],
             [
              0.6666666666666666,
              "#ed7953"
             ],
             [
              0.7777777777777778,
              "#fb9f3a"
             ],
             [
              0.8888888888888888,
              "#fdca26"
             ],
             [
              1,
              "#f0f921"
             ]
            ],
            "type": "histogram2dcontour"
           }
          ],
          "mesh3d": [
           {
            "colorbar": {
             "outlinewidth": 0,
             "ticks": ""
            },
            "type": "mesh3d"
           }
          ],
          "parcoords": [
           {
            "line": {
             "colorbar": {
              "outlinewidth": 0,
              "ticks": ""
             }
            },
            "type": "parcoords"
           }
          ],
          "pie": [
           {
            "automargin": true,
            "type": "pie"
           }
          ],
          "scatter": [
           {
            "fillpattern": {
             "fillmode": "overlay",
             "size": 10,
             "solidity": 0.2
            },
            "type": "scatter"
           }
          ],
          "scatter3d": [
           {
            "line": {
             "colorbar": {
              "outlinewidth": 0,
              "ticks": ""
             }
            },
            "marker": {
             "colorbar": {
              "outlinewidth": 0,
              "ticks": ""
             }
            },
            "type": "scatter3d"
           }
          ],
          "scattercarpet": [
           {
            "marker": {
             "colorbar": {
              "outlinewidth": 0,
              "ticks": ""
             }
            },
            "type": "scattercarpet"
           }
          ],
          "scattergeo": [
           {
            "marker": {
             "colorbar": {
              "outlinewidth": 0,
              "ticks": ""
             }
            },
            "type": "scattergeo"
           }
          ],
          "scattergl": [
           {
            "marker": {
             "colorbar": {
              "outlinewidth": 0,
              "ticks": ""
             }
            },
            "type": "scattergl"
           }
          ],
          "scattermapbox": [
           {
            "marker": {
             "colorbar": {
              "outlinewidth": 0,
              "ticks": ""
             }
            },
            "type": "scattermapbox"
           }
          ],
          "scatterpolar": [
           {
            "marker": {
             "colorbar": {
              "outlinewidth": 0,
              "ticks": ""
             }
            },
            "type": "scatterpolar"
           }
          ],
          "scatterpolargl": [
           {
            "marker": {
             "colorbar": {
              "outlinewidth": 0,
              "ticks": ""
             }
            },
            "type": "scatterpolargl"
           }
          ],
          "scatterternary": [
           {
            "marker": {
             "colorbar": {
              "outlinewidth": 0,
              "ticks": ""
             }
            },
            "type": "scatterternary"
           }
          ],
          "surface": [
           {
            "colorbar": {
             "outlinewidth": 0,
             "ticks": ""
            },
            "colorscale": [
             [
              0,
              "#0d0887"
             ],
             [
              0.1111111111111111,
              "#46039f"
             ],
             [
              0.2222222222222222,
              "#7201a8"
             ],
             [
              0.3333333333333333,
              "#9c179e"
             ],
             [
              0.4444444444444444,
              "#bd3786"
             ],
             [
              0.5555555555555556,
              "#d8576b"
             ],
             [
              0.6666666666666666,
              "#ed7953"
             ],
             [
              0.7777777777777778,
              "#fb9f3a"
             ],
             [
              0.8888888888888888,
              "#fdca26"
             ],
             [
              1,
              "#f0f921"
             ]
            ],
            "type": "surface"
           }
          ],
          "table": [
           {
            "cells": {
             "fill": {
              "color": "#EBF0F8"
             },
             "line": {
              "color": "white"
             }
            },
            "header": {
             "fill": {
              "color": "#C8D4E3"
             },
             "line": {
              "color": "white"
             }
            },
            "type": "table"
           }
          ]
         },
         "layout": {
          "annotationdefaults": {
           "arrowcolor": "#2a3f5f",
           "arrowhead": 0,
           "arrowwidth": 1
          },
          "autotypenumbers": "strict",
          "coloraxis": {
           "colorbar": {
            "outlinewidth": 0,
            "ticks": ""
           }
          },
          "colorscale": {
           "diverging": [
            [
             0,
             "#8e0152"
            ],
            [
             0.1,
             "#c51b7d"
            ],
            [
             0.2,
             "#de77ae"
            ],
            [
             0.3,
             "#f1b6da"
            ],
            [
             0.4,
             "#fde0ef"
            ],
            [
             0.5,
             "#f7f7f7"
            ],
            [
             0.6,
             "#e6f5d0"
            ],
            [
             0.7,
             "#b8e186"
            ],
            [
             0.8,
             "#7fbc41"
            ],
            [
             0.9,
             "#4d9221"
            ],
            [
             1,
             "#276419"
            ]
           ],
           "sequential": [
            [
             0,
             "#0d0887"
            ],
            [
             0.1111111111111111,
             "#46039f"
            ],
            [
             0.2222222222222222,
             "#7201a8"
            ],
            [
             0.3333333333333333,
             "#9c179e"
            ],
            [
             0.4444444444444444,
             "#bd3786"
            ],
            [
             0.5555555555555556,
             "#d8576b"
            ],
            [
             0.6666666666666666,
             "#ed7953"
            ],
            [
             0.7777777777777778,
             "#fb9f3a"
            ],
            [
             0.8888888888888888,
             "#fdca26"
            ],
            [
             1,
             "#f0f921"
            ]
           ],
           "sequentialminus": [
            [
             0,
             "#0d0887"
            ],
            [
             0.1111111111111111,
             "#46039f"
            ],
            [
             0.2222222222222222,
             "#7201a8"
            ],
            [
             0.3333333333333333,
             "#9c179e"
            ],
            [
             0.4444444444444444,
             "#bd3786"
            ],
            [
             0.5555555555555556,
             "#d8576b"
            ],
            [
             0.6666666666666666,
             "#ed7953"
            ],
            [
             0.7777777777777778,
             "#fb9f3a"
            ],
            [
             0.8888888888888888,
             "#fdca26"
            ],
            [
             1,
             "#f0f921"
            ]
           ]
          },
          "colorway": [
           "#636efa",
           "#EF553B",
           "#00cc96",
           "#ab63fa",
           "#FFA15A",
           "#19d3f3",
           "#FF6692",
           "#B6E880",
           "#FF97FF",
           "#FECB52"
          ],
          "font": {
           "color": "#2a3f5f"
          },
          "geo": {
           "bgcolor": "white",
           "lakecolor": "white",
           "landcolor": "#E5ECF6",
           "showlakes": true,
           "showland": true,
           "subunitcolor": "white"
          },
          "hoverlabel": {
           "align": "left"
          },
          "hovermode": "closest",
          "mapbox": {
           "style": "light"
          },
          "paper_bgcolor": "white",
          "plot_bgcolor": "#E5ECF6",
          "polar": {
           "angularaxis": {
            "gridcolor": "white",
            "linecolor": "white",
            "ticks": ""
           },
           "bgcolor": "#E5ECF6",
           "radialaxis": {
            "gridcolor": "white",
            "linecolor": "white",
            "ticks": ""
           }
          },
          "scene": {
           "xaxis": {
            "backgroundcolor": "#E5ECF6",
            "gridcolor": "white",
            "gridwidth": 2,
            "linecolor": "white",
            "showbackground": true,
            "ticks": "",
            "zerolinecolor": "white"
           },
           "yaxis": {
            "backgroundcolor": "#E5ECF6",
            "gridcolor": "white",
            "gridwidth": 2,
            "linecolor": "white",
            "showbackground": true,
            "ticks": "",
            "zerolinecolor": "white"
           },
           "zaxis": {
            "backgroundcolor": "#E5ECF6",
            "gridcolor": "white",
            "gridwidth": 2,
            "linecolor": "white",
            "showbackground": true,
            "ticks": "",
            "zerolinecolor": "white"
           }
          },
          "shapedefaults": {
           "line": {
            "color": "#2a3f5f"
           }
          },
          "ternary": {
           "aaxis": {
            "gridcolor": "white",
            "linecolor": "white",
            "ticks": ""
           },
           "baxis": {
            "gridcolor": "white",
            "linecolor": "white",
            "ticks": ""
           },
           "bgcolor": "#E5ECF6",
           "caxis": {
            "gridcolor": "white",
            "linecolor": "white",
            "ticks": ""
           }
          },
          "title": {
           "x": 0.05
          },
          "xaxis": {
           "automargin": true,
           "gridcolor": "white",
           "linecolor": "white",
           "ticks": "",
           "title": {
            "standoff": 15
           },
           "zerolinecolor": "white",
           "zerolinewidth": 2
          },
          "yaxis": {
           "automargin": true,
           "gridcolor": "white",
           "linecolor": "white",
           "ticks": "",
           "title": {
            "standoff": 15
           },
           "zerolinecolor": "white",
           "zerolinewidth": 2
          }
         }
        },
        "xaxis": {
         "dtick": 1,
         "linecolor": "rgba(0,0,0,1)",
         "range": [
          -0.5,
          9.5
         ],
         "tick0": 0,
         "title": {
          "text": "Pair State"
         }
        },
        "yaxis": {
         "linecolor": "rgba(0,0,0,1)",
         "title": {
          "text": "N"
         }
        }
       }
      },
      "text/html": [
       "<div>                            <div id=\"5e7e1787-758e-4cca-a0ef-b8c3d942da61\" class=\"plotly-graph-div\" style=\"height:400px; width:100%;\"></div>            <script type=\"text/javascript\">                require([\"plotly\"], function(Plotly) {                    window.PLOTLYENV=window.PLOTLYENV || {};                                    if (document.getElementById(\"5e7e1787-758e-4cca-a0ef-b8c3d942da61\")) {                    Plotly.newPlot(                        \"5e7e1787-758e-4cca-a0ef-b8c3d942da61\",                        [{\"legendgroup\":\"1\",\"line\":{\"color\":\"rgba(200, 200, 200, 0.3)\"},\"mode\":\"lines\",\"showlegend\":false,\"x\":[0,1,2,3,4,5,6,7,8,9],\"y\":[238.0,234.0,238.0,0.0,190.0,5.0,29.0,83.0,0.0,158.0],\"type\":\"scatter\"},{\"legendgroup\":\"1\",\"line\":{\"color\":\"rgba(200, 200, 200, 0.3)\"},\"mode\":\"lines\",\"showlegend\":false,\"x\":[0,1,2,3,4,5,6,7,8,9],\"y\":[222.0,261.0,233.0,0.0,192.0,5.0,25.0,77.0,0.0,156.0],\"type\":\"scatter\"},{\"legendgroup\":\"1\",\"line\":{\"color\":\"rgba(200, 200, 200, 0.3)\"},\"mode\":\"lines\",\"showlegend\":false,\"x\":[0,1,2,3,4,5,6,7,8,9],\"y\":[227.0,234.0,220.0,0.0,204.0,3.0,21.0,64.0,0.0,157.0],\"type\":\"scatter\"},{\"legendgroup\":\"1\",\"line\":{\"color\":\"rgba(200, 200, 200, 0.3)\"},\"mode\":\"lines\",\"showlegend\":false,\"x\":[0,1,2,3,4,5,6,7,8,9],\"y\":[234.0,254.0,231.0,1.0,200.0,4.0,19.0,72.0,0.0,156.0],\"type\":\"scatter\"},{\"legendgroup\":\"1\",\"line\":{\"color\":\"rgba(200, 200, 200, 0.3)\"},\"mode\":\"lines\",\"showlegend\":false,\"x\":[0,1,2,3,4,5,6,7,8,9],\"y\":[230.0,260.0,244.0,1.0,197.0,8.0,22.0,66.0,0.0,147.0],\"type\":\"scatter\"},{\"legendgroup\":\"1\",\"line\":{\"color\":\"rgba(200, 200, 200, 0.3)\"},\"mode\":\"lines\",\"showlegend\":false,\"x\":[0,1,2,3,4,5,6,7,8,9],\"y\":[207.0,230.0,236.0,0.0,205.0,7.0,23.0,78.0,0.0,166.0],\"type\":\"scatter\"},{\"legendgroup\":\"1\",\"line\":{\"color\":\"rgba(200, 200, 200, 0.3)\"},\"mode\":\"lines\",\"showlegend\":false,\"x\":[0,1,2,3,4,5,6,7,8,9],\"y\":[244.0,243.0,235.0,0.0,194.0,9.0,24.0,63.0,0.0,150.0],\"type\":\"scatter\"},{\"legendgroup\":\"1\",\"line\":{\"color\":\"rgba(200, 200, 200, 0.3)\"},\"mode\":\"lines\",\"showlegend\":false,\"x\":[0,1,2,3,4,5,6,7,8,9],\"y\":[233.0,243.0,222.0,0.0,181.0,5.0,19.0,75.0,0.0,138.0],\"type\":\"scatter\"},{\"legendgroup\":\"1\",\"line\":{\"color\":\"rgba(200, 200, 200, 0.3)\"},\"mode\":\"lines\",\"showlegend\":false,\"x\":[0,1,2,3,4,5,6,7,8,9],\"y\":[234.0,242.0,223.0,0.0,194.0,1.0,22.0,61.0,0.0,147.0],\"type\":\"scatter\"},{\"legendgroup\":\"1\",\"line\":{\"color\":\"rgba(200, 200, 200, 0.3)\"},\"mode\":\"lines\",\"showlegend\":false,\"x\":[0,1,2,3,4,5,6,7,8,9],\"y\":[225.0,237.0,225.0,0.0,194.0,4.0,24.0,78.0,0.0,153.0],\"type\":\"scatter\"},{\"legendgroup\":\"1\",\"line\":{\"color\":\"rgba(200, 200, 200, 0.3)\"},\"mode\":\"lines\",\"showlegend\":false,\"x\":[0,1,2,3,4,5,6,7,8,9],\"y\":[223.0,241.0,230.0,0.0,182.0,5.0,14.0,71.0,0.0,158.0],\"type\":\"scatter\"},{\"legendgroup\":\"1\",\"line\":{\"color\":\"rgba(200, 200, 200, 0.3)\"},\"mode\":\"lines\",\"showlegend\":false,\"x\":[0,1,2,3,4,5,6,7,8,9],\"y\":[219.0,242.0,228.0,1.0,199.0,8.0,18.0,72.0,0.0,150.0],\"type\":\"scatter\"},{\"legendgroup\":\"1\",\"line\":{\"color\":\"rgba(200, 200, 200, 0.3)\"},\"mode\":\"lines\",\"showlegend\":false,\"x\":[0,1,2,3,4,5,6,7,8,9],\"y\":[229.0,235.0,235.0,0.0,196.0,5.0,19.0,63.0,0.0,137.0],\"type\":\"scatter\"},{\"legendgroup\":\"1\",\"line\":{\"color\":\"rgba(200, 200, 200, 0.3)\"},\"mode\":\"lines\",\"showlegend\":false,\"x\":[0,1,2,3,4,5,6,7,8,9],\"y\":[228.0,247.0,227.0,0.0,189.0,7.0,18.0,75.0,0.0,164.0],\"type\":\"scatter\"},{\"legendgroup\":\"1\",\"line\":{\"color\":\"rgba(200, 200, 200, 0.3)\"},\"mode\":\"lines\",\"showlegend\":false,\"x\":[0,1,2,3,4,5,6,7,8,9],\"y\":[224.0,236.0,252.0,0.0,203.0,3.0,17.0,66.0,0.0,149.0],\"type\":\"scatter\"},{\"legendgroup\":\"1\",\"line\":{\"color\":\"rgba(200, 200, 200, 0.3)\"},\"mode\":\"lines\",\"showlegend\":false,\"x\":[0,1,2,3,4,5,6,7,8,9],\"y\":[219.0,236.0,238.0,0.0,188.0,6.0,18.0,68.0,0.0,147.0],\"type\":\"scatter\"},{\"legendgroup\":\"1\",\"line\":{\"color\":\"rgba(200, 200, 200, 0.3)\"},\"mode\":\"lines\",\"showlegend\":false,\"x\":[0,1,2,3,4,5,6,7,8,9],\"y\":[229.0,248.0,244.0,0.0,191.0,9.0,22.0,71.0,0.0,151.0],\"type\":\"scatter\"},{\"legendgroup\":\"1\",\"line\":{\"color\":\"rgba(200, 200, 200, 0.3)\"},\"mode\":\"lines\",\"showlegend\":false,\"x\":[0,1,2,3,4,5,6,7,8,9],\"y\":[227.0,239.0,233.0,0.0,202.0,7.0,20.0,67.0,0.0,147.0],\"type\":\"scatter\"},{\"legendgroup\":\"1\",\"line\":{\"color\":\"rgba(200, 200, 200, 0.3)\"},\"mode\":\"lines\",\"showlegend\":false,\"x\":[0,1,2,3,4,5,6,7,8,9],\"y\":[220.0,236.0,228.0,0.0,191.0,5.0,17.0,68.0,0.0,152.0],\"type\":\"scatter\"},{\"legendgroup\":\"1\",\"line\":{\"color\":\"rgba(200, 200, 200, 0.3)\"},\"mode\":\"lines\",\"showlegend\":false,\"x\":[0,1,2,3,4,5,6,7,8,9],\"y\":[239.0,258.0,235.0,0.0,194.0,1.0,18.0,80.0,0.0,145.0],\"type\":\"scatter\"},{\"legendgroup\":\"1\",\"line\":{\"color\":\"rgba(200, 200, 200, 0.3)\"},\"mode\":\"lines\",\"showlegend\":false,\"x\":[0,1,2,3,4,5,6,7,8,9],\"y\":[239.0,256.0,243.0,0.0,187.0,4.0,19.0,75.0,0.0,150.0],\"type\":\"scatter\"},{\"legendgroup\":\"1\",\"line\":{\"color\":\"rgba(200, 200, 200, 0.3)\"},\"mode\":\"lines\",\"showlegend\":false,\"x\":[0,1,2,3,4,5,6,7,8,9],\"y\":[233.0,240.0,232.0,0.0,193.0,2.0,23.0,85.0,0.0,161.0],\"type\":\"scatter\"},{\"legendgroup\":\"1\",\"line\":{\"color\":\"rgba(200, 200, 200, 0.3)\"},\"mode\":\"lines\",\"showlegend\":false,\"x\":[0,1,2,3,4,5,6,7,8,9],\"y\":[231.0,250.0,242.0,0.0,192.0,8.0,17.0,75.0,0.0,158.0],\"type\":\"scatter\"},{\"legendgroup\":\"1\",\"line\":{\"color\":\"rgba(200, 200, 200, 0.3)\"},\"mode\":\"lines\",\"showlegend\":false,\"x\":[0,1,2,3,4,5,6,7,8,9],\"y\":[221.0,231.0,229.0,0.0,196.0,9.0,20.0,76.0,0.0,135.0],\"type\":\"scatter\"},{\"legendgroup\":\"1\",\"line\":{\"color\":\"rgba(200, 200, 200, 0.3)\"},\"mode\":\"lines\",\"showlegend\":false,\"x\":[0,1,2,3,4,5,6,7,8,9],\"y\":[213.0,230.0,217.0,0.0,206.0,6.0,18.0,76.0,0.0,143.0],\"type\":\"scatter\"},{\"legendgroup\":\"1\",\"line\":{\"color\":\"rgba(200, 200, 200, 0.3)\"},\"mode\":\"lines\",\"showlegend\":false,\"x\":[0,1,2,3,4,5,6,7,8,9],\"y\":[222.0,211.0,232.0,0.0,200.0,7.0,24.0,66.0,0.0,153.0],\"type\":\"scatter\"},{\"legendgroup\":\"1\",\"line\":{\"color\":\"rgba(200, 200, 200, 0.3)\"},\"mode\":\"lines\",\"showlegend\":false,\"x\":[0,1,2,3,4,5,6,7,8,9],\"y\":[232.0,255.0,229.0,0.0,191.0,5.0,19.0,75.0,0.0,153.0],\"type\":\"scatter\"},{\"legendgroup\":\"1\",\"line\":{\"color\":\"rgba(200, 200, 200, 0.3)\"},\"mode\":\"lines\",\"showlegend\":false,\"x\":[0,1,2,3,4,5,6,7,8,9],\"y\":[230.0,242.0,214.0,0.0,192.0,3.0,21.0,91.0,0.0,158.0],\"type\":\"scatter\"},{\"legendgroup\":\"1\",\"line\":{\"color\":\"rgba(200, 200, 200, 0.3)\"},\"mode\":\"lines\",\"showlegend\":false,\"x\":[0,1,2,3,4,5,6,7,8,9],\"y\":[234.0,229.0,228.0,0.0,192.0,7.0,19.0,78.0,0.0,144.0],\"type\":\"scatter\"},{\"legendgroup\":\"1\",\"line\":{\"color\":\"rgba(200, 200, 200, 0.3)\"},\"mode\":\"lines\",\"showlegend\":false,\"x\":[0,1,2,3,4,5,6,7,8,9],\"y\":[221.0,256.0,233.0,0.0,185.0,4.0,23.0,69.0,0.0,158.0],\"type\":\"scatter\"},{\"legendgroup\":\"1\",\"line\":{\"color\":\"rgba(200, 200, 200, 0.3)\"},\"mode\":\"lines\",\"showlegend\":false,\"x\":[0,1,2,3,4,5,6,7,8,9],\"y\":[212.0,229.0,227.0,1.0,205.0,5.0,21.0,79.0,0.0,142.0],\"type\":\"scatter\"},{\"legendgroup\":\"1\",\"line\":{\"color\":\"rgba(200, 200, 200, 0.3)\"},\"mode\":\"lines\",\"showlegend\":false,\"x\":[0,1,2,3,4,5,6,7,8,9],\"y\":[210.0,244.0,233.0,0.0,200.0,6.0,18.0,75.0,0.0,150.0],\"type\":\"scatter\"},{\"legendgroup\":\"1\",\"line\":{\"color\":\"rgba(200, 200, 200, 0.3)\"},\"mode\":\"lines\",\"showlegend\":false,\"x\":[0,1,2,3,4,5,6,7,8,9],\"y\":[230.0,243.0,232.0,0.0,192.0,6.0,19.0,68.0,0.0,148.0],\"type\":\"scatter\"},{\"legendgroup\":\"1\",\"line\":{\"color\":\"rgba(200, 200, 200, 0.3)\"},\"mode\":\"lines\",\"showlegend\":false,\"x\":[0,1,2,3,4,5,6,7,8,9],\"y\":[222.0,229.0,235.0,0.0,179.0,5.0,28.0,84.0,0.0,160.0],\"type\":\"scatter\"},{\"legendgroup\":\"1\",\"line\":{\"color\":\"rgba(200, 200, 200, 0.3)\"},\"mode\":\"lines\",\"showlegend\":false,\"x\":[0,1,2,3,4,5,6,7,8,9],\"y\":[220.0,237.0,248.0,0.0,201.0,2.0,20.0,70.0,0.0,142.0],\"type\":\"scatter\"},{\"legendgroup\":\"1\",\"line\":{\"color\":\"rgba(200, 200, 200, 0.3)\"},\"mode\":\"lines\",\"showlegend\":false,\"x\":[0,1,2,3,4,5,6,7,8,9],\"y\":[242.0,243.0,251.0,0.0,190.0,4.0,27.0,80.0,0.0,158.0],\"type\":\"scatter\"},{\"legendgroup\":\"1\",\"line\":{\"color\":\"rgba(200, 200, 200, 0.3)\"},\"mode\":\"lines\",\"showlegend\":false,\"x\":[0,1,2,3,4,5,6,7,8,9],\"y\":[226.0,251.0,228.0,0.0,197.0,7.0,21.0,71.0,0.0,153.0],\"type\":\"scatter\"},{\"legendgroup\":\"1\",\"line\":{\"color\":\"rgba(200, 200, 200, 0.3)\"},\"mode\":\"lines\",\"showlegend\":false,\"x\":[0,1,2,3,4,5,6,7,8,9],\"y\":[222.0,249.0,243.0,0.0,184.0,3.0,22.0,76.0,0.0,155.0],\"type\":\"scatter\"},{\"legendgroup\":\"1\",\"line\":{\"color\":\"rgba(200, 200, 200, 0.3)\"},\"mode\":\"lines\",\"showlegend\":false,\"x\":[0,1,2,3,4,5,6,7,8,9],\"y\":[210.0,238.0,229.0,0.0,203.0,3.0,23.0,68.0,0.0,148.0],\"type\":\"scatter\"},{\"legendgroup\":\"1\",\"line\":{\"color\":\"rgba(200, 200, 200, 0.3)\"},\"mode\":\"lines\",\"showlegend\":false,\"x\":[0,1,2,3,4,5,6,7,8,9],\"y\":[238.0,237.0,237.0,0.0,184.0,8.0,25.0,72.0,0.0,158.0],\"type\":\"scatter\"},{\"legendgroup\":\"1\",\"line\":{\"color\":\"rgba(200, 200, 200, 0.3)\"},\"mode\":\"lines\",\"showlegend\":false,\"x\":[0,1,2,3,4,5,6,7,8,9],\"y\":[243.0,225.0,221.0,0.0,204.0,2.0,25.0,73.0,0.0,149.0],\"type\":\"scatter\"},{\"legendgroup\":\"1\",\"line\":{\"color\":\"rgba(200, 200, 200, 0.3)\"},\"mode\":\"lines\",\"showlegend\":false,\"x\":[0,1,2,3,4,5,6,7,8,9],\"y\":[229.0,246.0,233.0,0.0,194.0,5.0,14.0,68.0,0.0,147.0],\"type\":\"scatter\"},{\"legendgroup\":\"1\",\"line\":{\"color\":\"rgba(200, 200, 200, 0.3)\"},\"mode\":\"lines\",\"showlegend\":false,\"x\":[0,1,2,3,4,5,6,7,8,9],\"y\":[244.0,225.0,250.0,0.0,196.0,4.0,28.0,84.0,0.0,160.0],\"type\":\"scatter\"},{\"legendgroup\":\"1\",\"line\":{\"color\":\"rgba(200, 200, 200, 0.3)\"},\"mode\":\"lines\",\"showlegend\":false,\"x\":[0,1,2,3,4,5,6,7,8,9],\"y\":[245.0,260.0,242.0,0.0,192.0,7.0,21.0,68.0,0.0,143.0],\"type\":\"scatter\"},{\"legendgroup\":\"1\",\"line\":{\"color\":\"rgba(200, 200, 200, 0.3)\"},\"mode\":\"lines\",\"showlegend\":false,\"x\":[0,1,2,3,4,5,6,7,8,9],\"y\":[227.0,242.0,231.0,0.0,188.0,6.0,24.0,77.0,0.0,170.0],\"type\":\"scatter\"},{\"legendgroup\":\"1\",\"line\":{\"color\":\"rgba(200, 200, 200, 0.3)\"},\"mode\":\"lines\",\"showlegend\":false,\"x\":[0,1,2,3,4,5,6,7,8,9],\"y\":[221.0,243.0,240.0,0.0,177.0,4.0,17.0,73.0,0.0,159.0],\"type\":\"scatter\"},{\"legendgroup\":\"1\",\"line\":{\"color\":\"rgba(200, 200, 200, 0.3)\"},\"mode\":\"lines\",\"showlegend\":false,\"x\":[0,1,2,3,4,5,6,7,8,9],\"y\":[226.0,235.0,243.0,0.0,179.0,3.0,18.0,79.0,0.0,149.0],\"type\":\"scatter\"},{\"legendgroup\":\"1\",\"line\":{\"color\":\"rgba(200, 200, 200, 0.3)\"},\"mode\":\"lines\",\"showlegend\":false,\"x\":[0,1,2,3,4,5,6,7,8,9],\"y\":[243.0,240.0,212.0,0.0,193.0,4.0,24.0,95.0,0.0,161.0],\"type\":\"scatter\"},{\"legendgroup\":\"1\",\"line\":{\"color\":\"rgba(200, 200, 200, 0.3)\"},\"mode\":\"lines\",\"showlegend\":false,\"x\":[0,1,2,3,4,5,6,7,8,9],\"y\":[233.0,238.0,222.0,0.0,194.0,10.0,32.0,83.0,0.0,143.0],\"type\":\"scatter\"},{\"legendgroup\":\"1\",\"line\":{\"color\":\"rgba(200, 200, 200, 0.3)\"},\"mode\":\"lines\",\"showlegend\":false,\"x\":[0,1,2,3,4,5,6,7,8,9],\"y\":[227.0,241.0,241.0,0.0,191.0,11.0,24.0,66.0,0.0,148.0],\"type\":\"scatter\"},{\"legendgroup\":\"1\",\"line\":{\"color\":\"rgba(200, 200, 200, 0.3)\"},\"mode\":\"lines\",\"showlegend\":false,\"x\":[0,1,2,3,4,5,6,7,8,9],\"y\":[228.0,238.0,242.0,0.0,187.0,6.0,23.0,78.0,0.0,153.0],\"type\":\"scatter\"},{\"legendgroup\":\"1\",\"line\":{\"color\":\"rgba(200, 200, 200, 0.3)\"},\"mode\":\"lines\",\"showlegend\":false,\"x\":[0,1,2,3,4,5,6,7,8,9],\"y\":[224.0,229.0,231.0,0.0,185.0,3.0,23.0,60.0,0.0,148.0],\"type\":\"scatter\"},{\"legendgroup\":\"1\",\"line\":{\"color\":\"rgba(200, 200, 200, 0.3)\"},\"mode\":\"lines\",\"showlegend\":false,\"x\":[0,1,2,3,4,5,6,7,8,9],\"y\":[217.0,250.0,238.0,0.0,198.0,5.0,20.0,77.0,0.0,148.0],\"type\":\"scatter\"},{\"legendgroup\":\"1\",\"line\":{\"color\":\"rgba(200, 200, 200, 0.3)\"},\"mode\":\"lines\",\"showlegend\":false,\"x\":[0,1,2,3,4,5,6,7,8,9],\"y\":[213.0,229.0,247.0,0.0,197.0,3.0,19.0,77.0,0.0,153.0],\"type\":\"scatter\"},{\"legendgroup\":\"1\",\"line\":{\"color\":\"rgba(200, 200, 200, 0.3)\"},\"mode\":\"lines\",\"showlegend\":false,\"x\":[0,1,2,3,4,5,6,7,8,9],\"y\":[228.0,251.0,236.0,0.0,196.0,6.0,13.0,68.0,0.0,153.0],\"type\":\"scatter\"},{\"legendgroup\":\"1\",\"line\":{\"color\":\"rgba(200, 200, 200, 0.3)\"},\"mode\":\"lines\",\"showlegend\":false,\"x\":[0,1,2,3,4,5,6,7,8,9],\"y\":[227.0,240.0,236.0,0.0,190.0,2.0,22.0,81.0,0.0,139.0],\"type\":\"scatter\"},{\"legendgroup\":\"1\",\"line\":{\"color\":\"rgba(200, 200, 200, 0.3)\"},\"mode\":\"lines\",\"showlegend\":false,\"x\":[0,1,2,3,4,5,6,7,8,9],\"y\":[246.0,237.0,240.0,0.0,199.0,9.0,25.0,66.0,0.0,148.0],\"type\":\"scatter\"},{\"legendgroup\":\"1\",\"line\":{\"color\":\"rgba(200, 200, 200, 0.3)\"},\"mode\":\"lines\",\"showlegend\":false,\"x\":[0,1,2,3,4,5,6,7,8,9],\"y\":[240.0,251.0,216.0,0.0,193.0,2.0,17.0,71.0,0.0,147.0],\"type\":\"scatter\"},{\"legendgroup\":\"1\",\"line\":{\"color\":\"rgba(200, 200, 200, 0.3)\"},\"mode\":\"lines\",\"showlegend\":false,\"x\":[0,1,2,3,4,5,6,7,8,9],\"y\":[234.0,248.0,225.0,1.0,195.0,4.0,20.0,70.0,0.0,153.0],\"type\":\"scatter\"},{\"legendgroup\":\"1\",\"line\":{\"color\":\"rgba(200, 200, 200, 0.3)\"},\"mode\":\"lines\",\"showlegend\":false,\"x\":[0,1,2,3,4,5,6,7,8,9],\"y\":[242.0,239.0,238.0,1.0,186.0,6.0,20.0,68.0,0.0,152.0],\"type\":\"scatter\"},{\"legendgroup\":\"1\",\"line\":{\"color\":\"rgba(200, 200, 200, 0.3)\"},\"mode\":\"lines\",\"showlegend\":false,\"x\":[0,1,2,3,4,5,6,7,8,9],\"y\":[233.0,225.0,235.0,0.0,184.0,3.0,29.0,94.0,0.0,154.0],\"type\":\"scatter\"},{\"legendgroup\":\"1\",\"line\":{\"color\":\"rgba(200, 200, 200, 0.3)\"},\"mode\":\"lines\",\"showlegend\":false,\"x\":[0,1,2,3,4,5,6,7,8,9],\"y\":[227.0,242.0,229.0,1.0,188.0,6.0,25.0,72.0,0.0,144.0],\"type\":\"scatter\"},{\"legendgroup\":\"1\",\"line\":{\"color\":\"rgba(200, 200, 200, 0.3)\"},\"mode\":\"lines\",\"showlegend\":false,\"x\":[0,1,2,3,4,5,6,7,8,9],\"y\":[226.0,232.0,228.0,0.0,193.0,6.0,27.0,78.0,0.0,161.0],\"type\":\"scatter\"},{\"legendgroup\":\"1\",\"line\":{\"color\":\"rgba(200, 200, 200, 0.3)\"},\"mode\":\"lines\",\"showlegend\":false,\"x\":[0,1,2,3,4,5,6,7,8,9],\"y\":[234.0,226.0,224.0,0.0,198.0,2.0,28.0,80.0,0.0,156.0],\"type\":\"scatter\"},{\"legendgroup\":\"1\",\"line\":{\"color\":\"rgba(200, 200, 200, 0.3)\"},\"mode\":\"lines\",\"showlegend\":false,\"x\":[0,1,2,3,4,5,6,7,8,9],\"y\":[233.0,231.0,227.0,0.0,200.0,3.0,23.0,82.0,0.0,162.0],\"type\":\"scatter\"},{\"legendgroup\":\"1\",\"line\":{\"color\":\"rgba(200, 200, 200, 0.3)\"},\"mode\":\"lines\",\"showlegend\":false,\"x\":[0,1,2,3,4,5,6,7,8,9],\"y\":[225.0,233.0,250.0,0.0,198.0,8.0,19.0,71.0,0.0,144.0],\"type\":\"scatter\"},{\"legendgroup\":\"1\",\"line\":{\"color\":\"rgba(200, 200, 200, 0.3)\"},\"mode\":\"lines\",\"showlegend\":false,\"x\":[0,1,2,3,4,5,6,7,8,9],\"y\":[227.0,249.0,236.0,1.0,203.0,9.0,20.0,64.0,0.0,155.0],\"type\":\"scatter\"},{\"legendgroup\":\"1\",\"line\":{\"color\":\"rgba(200, 200, 200, 0.3)\"},\"mode\":\"lines\",\"showlegend\":false,\"x\":[0,1,2,3,4,5,6,7,8,9],\"y\":[215.0,233.0,220.0,1.0,188.0,5.0,19.0,65.0,0.0,141.0],\"type\":\"scatter\"},{\"legendgroup\":\"1\",\"line\":{\"color\":\"rgba(200, 200, 200, 0.3)\"},\"mode\":\"lines\",\"showlegend\":false,\"x\":[0,1,2,3,4,5,6,7,8,9],\"y\":[230.0,249.0,221.0,1.0,188.0,7.0,22.0,75.0,0.0,150.0],\"type\":\"scatter\"},{\"legendgroup\":\"1\",\"line\":{\"color\":\"rgba(200, 200, 200, 0.3)\"},\"mode\":\"lines\",\"showlegend\":false,\"x\":[0,1,2,3,4,5,6,7,8,9],\"y\":[223.0,249.0,240.0,0.0,186.0,3.0,20.0,77.0,0.0,143.0],\"type\":\"scatter\"},{\"legendgroup\":\"1\",\"line\":{\"color\":\"rgba(200, 200, 200, 0.3)\"},\"mode\":\"lines\",\"showlegend\":false,\"x\":[0,1,2,3,4,5,6,7,8,9],\"y\":[215.0,246.0,237.0,0.0,193.0,4.0,16.0,74.0,0.0,143.0],\"type\":\"scatter\"},{\"legendgroup\":\"1\",\"line\":{\"color\":\"rgba(200, 200, 200, 0.3)\"},\"mode\":\"lines\",\"showlegend\":false,\"x\":[0,1,2,3,4,5,6,7,8,9],\"y\":[229.0,245.0,221.0,0.0,207.0,7.0,20.0,69.0,0.0,134.0],\"type\":\"scatter\"},{\"legendgroup\":\"1\",\"line\":{\"color\":\"rgba(200, 200, 200, 0.3)\"},\"mode\":\"lines\",\"showlegend\":false,\"x\":[0,1,2,3,4,5,6,7,8,9],\"y\":[235.0,241.0,232.0,0.0,195.0,9.0,11.0,69.0,0.0,148.0],\"type\":\"scatter\"},{\"legendgroup\":\"1\",\"line\":{\"color\":\"rgba(200, 200, 200, 0.3)\"},\"mode\":\"lines\",\"showlegend\":false,\"x\":[0,1,2,3,4,5,6,7,8,9],\"y\":[215.0,240.0,234.0,1.0,196.0,4.0,16.0,72.0,0.0,139.0],\"type\":\"scatter\"},{\"legendgroup\":\"1\",\"line\":{\"color\":\"rgba(200, 200, 200, 0.3)\"},\"mode\":\"lines\",\"showlegend\":false,\"x\":[0,1,2,3,4,5,6,7,8,9],\"y\":[228.0,232.0,236.0,0.0,192.0,4.0,21.0,72.0,0.0,137.0],\"type\":\"scatter\"},{\"legendgroup\":\"1\",\"line\":{\"color\":\"rgba(200, 200, 200, 0.3)\"},\"mode\":\"lines\",\"showlegend\":false,\"x\":[0,1,2,3,4,5,6,7,8,9],\"y\":[206.0,230.0,259.0,0.0,196.0,5.0,17.0,72.0,0.0,154.0],\"type\":\"scatter\"},{\"legendgroup\":\"1\",\"line\":{\"color\":\"rgba(200, 200, 200, 0.3)\"},\"mode\":\"lines\",\"showlegend\":false,\"x\":[0,1,2,3,4,5,6,7,8,9],\"y\":[240.0,240.0,228.0,0.0,190.0,5.0,15.0,75.0,0.0,143.0],\"type\":\"scatter\"},{\"legendgroup\":\"1\",\"line\":{\"color\":\"rgba(200, 200, 200, 0.3)\"},\"mode\":\"lines\",\"showlegend\":false,\"x\":[0,1,2,3,4,5,6,7,8,9],\"y\":[244.0,247.0,221.0,0.0,187.0,3.0,23.0,81.0,0.0,136.0],\"type\":\"scatter\"},{\"legendgroup\":\"1\",\"line\":{\"color\":\"rgba(200, 200, 200, 0.3)\"},\"mode\":\"lines\",\"showlegend\":false,\"x\":[0,1,2,3,4,5,6,7,8,9],\"y\":[230.0,250.0,224.0,0.0,196.0,6.0,15.0,75.0,0.0,139.0],\"type\":\"scatter\"},{\"legendgroup\":\"1\",\"line\":{\"color\":\"rgba(200, 200, 200, 0.3)\"},\"mode\":\"lines\",\"showlegend\":false,\"x\":[0,1,2,3,4,5,6,7,8,9],\"y\":[219.0,243.0,225.0,0.0,221.0,6.0,22.0,84.0,0.0,146.0],\"type\":\"scatter\"},{\"legendgroup\":\"1\",\"line\":{\"color\":\"rgba(200, 200, 200, 0.3)\"},\"mode\":\"lines\",\"showlegend\":false,\"x\":[0,1,2,3,4,5,6,7,8,9],\"y\":[220.0,238.0,230.0,0.0,187.0,5.0,24.0,80.0,0.0,159.0],\"type\":\"scatter\"},{\"legendgroup\":\"1\",\"line\":{\"color\":\"rgba(200, 200, 200, 0.3)\"},\"mode\":\"lines\",\"showlegend\":false,\"x\":[0,1,2,3,4,5,6,7,8,9],\"y\":[219.0,240.0,225.0,0.0,193.0,5.0,20.0,67.0,0.0,148.0],\"type\":\"scatter\"},{\"legendgroup\":\"1\",\"line\":{\"color\":\"rgba(200, 200, 200, 0.3)\"},\"mode\":\"lines\",\"showlegend\":false,\"x\":[0,1,2,3,4,5,6,7,8,9],\"y\":[219.0,254.0,236.0,0.0,200.0,5.0,21.0,82.0,0.0,143.0],\"type\":\"scatter\"},{\"legendgroup\":\"1\",\"line\":{\"color\":\"rgba(200, 200, 200, 0.3)\"},\"mode\":\"lines\",\"showlegend\":false,\"x\":[0,1,2,3,4,5,6,7,8,9],\"y\":[237.0,241.0,225.0,0.0,181.0,8.0,25.0,85.0,0.0,159.0],\"type\":\"scatter\"},{\"legendgroup\":\"1\",\"line\":{\"color\":\"rgba(200, 200, 200, 0.3)\"},\"mode\":\"lines\",\"showlegend\":false,\"x\":[0,1,2,3,4,5,6,7,8,9],\"y\":[232.0,228.0,225.0,0.0,205.0,5.0,25.0,81.0,0.0,150.0],\"type\":\"scatter\"},{\"legendgroup\":\"1\",\"line\":{\"color\":\"rgba(200, 200, 200, 0.3)\"},\"mode\":\"lines\",\"showlegend\":false,\"x\":[0,1,2,3,4,5,6,7,8,9],\"y\":[231.0,243.0,232.0,0.0,183.0,6.0,17.0,72.0,0.0,150.0],\"type\":\"scatter\"},{\"legendgroup\":\"1\",\"line\":{\"color\":\"rgba(200, 200, 200, 0.3)\"},\"mode\":\"lines\",\"showlegend\":false,\"x\":[0,1,2,3,4,5,6,7,8,9],\"y\":[237.0,253.0,227.0,0.0,202.0,7.0,16.0,71.0,0.0,153.0],\"type\":\"scatter\"},{\"legendgroup\":\"1\",\"line\":{\"color\":\"rgba(200, 200, 200, 0.3)\"},\"mode\":\"lines\",\"showlegend\":false,\"x\":[0,1,2,3,4,5,6,7,8,9],\"y\":[235.0,233.0,213.0,0.0,210.0,4.0,20.0,87.0,0.0,141.0],\"type\":\"scatter\"},{\"legendgroup\":\"1\",\"line\":{\"color\":\"rgba(200, 200, 200, 0.3)\"},\"mode\":\"lines\",\"showlegend\":false,\"x\":[0,1,2,3,4,5,6,7,8,9],\"y\":[226.0,257.0,238.0,0.0,198.0,5.0,17.0,65.0,0.0,158.0],\"type\":\"scatter\"},{\"legendgroup\":\"1\",\"line\":{\"color\":\"rgba(200, 200, 200, 0.3)\"},\"mode\":\"lines\",\"showlegend\":false,\"x\":[0,1,2,3,4,5,6,7,8,9],\"y\":[213.0,253.0,228.0,0.0,211.0,7.0,16.0,72.0,0.0,160.0],\"type\":\"scatter\"},{\"legendgroup\":\"1\",\"line\":{\"color\":\"rgba(200, 200, 200, 0.3)\"},\"mode\":\"lines\",\"showlegend\":false,\"x\":[0,1,2,3,4,5,6,7,8,9],\"y\":[249.0,248.0,240.0,0.0,187.0,7.0,17.0,66.0,0.0,150.0],\"type\":\"scatter\"},{\"legendgroup\":\"1\",\"line\":{\"color\":\"rgba(200, 200, 200, 0.3)\"},\"mode\":\"lines\",\"showlegend\":false,\"x\":[0,1,2,3,4,5,6,7,8,9],\"y\":[225.0,236.0,231.0,1.0,186.0,6.0,29.0,79.0,0.0,147.0],\"type\":\"scatter\"},{\"legendgroup\":\"1\",\"line\":{\"color\":\"rgba(200, 200, 200, 0.3)\"},\"mode\":\"lines\",\"showlegend\":false,\"x\":[0,1,2,3,4,5,6,7,8,9],\"y\":[226.0,233.0,233.0,0.0,201.0,7.0,23.0,75.0,0.0,144.0],\"type\":\"scatter\"},{\"legendgroup\":\"1\",\"line\":{\"color\":\"rgba(200, 200, 200, 0.3)\"},\"mode\":\"lines\",\"showlegend\":false,\"x\":[0,1,2,3,4,5,6,7,8,9],\"y\":[232.0,230.0,231.0,0.0,206.0,8.0,17.0,69.0,0.0,152.0],\"type\":\"scatter\"},{\"legendgroup\":\"1\",\"line\":{\"color\":\"rgba(200, 200, 200, 0.3)\"},\"mode\":\"lines\",\"showlegend\":false,\"x\":[0,1,2,3,4,5,6,7,8,9],\"y\":[235.0,263.0,246.0,0.0,189.0,6.0,15.0,64.0,0.0,153.0],\"type\":\"scatter\"},{\"legendgroup\":\"1\",\"line\":{\"color\":\"rgba(200, 200, 200, 0.3)\"},\"mode\":\"lines\",\"showlegend\":false,\"x\":[0,1,2,3,4,5,6,7,8,9],\"y\":[237.0,252.0,221.0,0.0,200.0,6.0,23.0,69.0,0.0,142.0],\"type\":\"scatter\"},{\"legendgroup\":\"1\",\"line\":{\"color\":\"rgba(200, 200, 200, 0.3)\"},\"mode\":\"lines\",\"showlegend\":false,\"x\":[0,1,2,3,4,5,6,7,8,9],\"y\":[217.0,248.0,229.0,0.0,197.0,1.0,23.0,85.0,0.0,137.0],\"type\":\"scatter\"},{\"legendgroup\":\"1\",\"line\":{\"color\":\"rgba(200, 200, 200, 0.3)\"},\"mode\":\"lines\",\"showlegend\":false,\"x\":[0,1,2,3,4,5,6,7,8,9],\"y\":[235.0,230.0,250.0,0.0,187.0,5.0,24.0,73.0,0.0,165.0],\"type\":\"scatter\"},{\"legendgroup\":\"1\",\"line\":{\"color\":\"rgba(200, 200, 200, 0.3)\"},\"mode\":\"lines\",\"showlegend\":false,\"x\":[0,1,2,3,4,5,6,7,8,9],\"y\":[243.0,261.0,224.0,0.0,192.0,2.0,23.0,71.0,0.0,132.0],\"type\":\"scatter\"},{\"legendgroup\":\"1\",\"line\":{\"color\":\"rgba(200, 200, 200, 0.3)\"},\"mode\":\"lines\",\"showlegend\":false,\"x\":[0,1,2,3,4,5,6,7,8,9],\"y\":[244.0,238.0,229.0,0.0,205.0,5.0,28.0,71.0,0.0,151.0],\"type\":\"scatter\"},{\"legendgroup\":\"1\",\"legendrank\":3,\"line\":{\"color\":\"rgba(200, 200, 200, 0.9)\"},\"mode\":\"lines\",\"name\":\"Permuted\",\"x\":[0,1,2,3,4,5,6,7,8,9],\"y\":[244.0,238.0,229.0,0.0,205.0,5.0,28.0,71.0,0.0,151.0],\"type\":\"scatter\"},{\"legendgroup\":\"1\",\"legendrank\":1,\"line\":{\"color\":\"rgba(0, 0, 0, 1)\",\"dash\":\"dot\"},\"mode\":\"lines\",\"name\":\"Truth\",\"x\":[0,1,2,3,4,5,6,7,8,9],\"y\":[261.0,245.0,246.0,30.0,257.0,23.0,52.0,101.0,7.0,185.0],\"type\":\"scatter\"},{\"legendgroup\":\"1\",\"legendrank\":2,\"line\":{\"color\":\"rgba(255, 0, 0, 1)\"},\"mode\":\"lines\",\"name\":\"Test\",\"x\":[0,1,2,3,4,5,6,7,8,9],\"y\":[227.0,241.0,230.0,0.0,207.0,8.0,22.0,63.0,0.0,146.0],\"type\":\"scatter\"}],                        {\"template\":{\"data\":{\"histogram2dcontour\":[{\"type\":\"histogram2dcontour\",\"colorbar\":{\"outlinewidth\":0,\"ticks\":\"\"},\"colorscale\":[[0.0,\"#0d0887\"],[0.1111111111111111,\"#46039f\"],[0.2222222222222222,\"#7201a8\"],[0.3333333333333333,\"#9c179e\"],[0.4444444444444444,\"#bd3786\"],[0.5555555555555556,\"#d8576b\"],[0.6666666666666666,\"#ed7953\"],[0.7777777777777778,\"#fb9f3a\"],[0.8888888888888888,\"#fdca26\"],[1.0,\"#f0f921\"]]}],\"choropleth\":[{\"type\":\"choropleth\",\"colorbar\":{\"outlinewidth\":0,\"ticks\":\"\"}}],\"histogram2d\":[{\"type\":\"histogram2d\",\"colorbar\":{\"outlinewidth\":0,\"ticks\":\"\"},\"colorscale\":[[0.0,\"#0d0887\"],[0.1111111111111111,\"#46039f\"],[0.2222222222222222,\"#7201a8\"],[0.3333333333333333,\"#9c179e\"],[0.4444444444444444,\"#bd3786\"],[0.5555555555555556,\"#d8576b\"],[0.6666666666666666,\"#ed7953\"],[0.7777777777777778,\"#fb9f3a\"],[0.8888888888888888,\"#fdca26\"],[1.0,\"#f0f921\"]]}],\"heatmap\":[{\"type\":\"heatmap\",\"colorbar\":{\"outlinewidth\":0,\"ticks\":\"\"},\"colorscale\":[[0.0,\"#0d0887\"],[0.1111111111111111,\"#46039f\"],[0.2222222222222222,\"#7201a8\"],[0.3333333333333333,\"#9c179e\"],[0.4444444444444444,\"#bd3786\"],[0.5555555555555556,\"#d8576b\"],[0.6666666666666666,\"#ed7953\"],[0.7777777777777778,\"#fb9f3a\"],[0.8888888888888888,\"#fdca26\"],[1.0,\"#f0f921\"]]}],\"heatmapgl\":[{\"type\":\"heatmapgl\",\"colorbar\":{\"outlinewidth\":0,\"ticks\":\"\"},\"colorscale\":[[0.0,\"#0d0887\"],[0.1111111111111111,\"#46039f\"],[0.2222222222222222,\"#7201a8\"],[0.3333333333333333,\"#9c179e\"],[0.4444444444444444,\"#bd3786\"],[0.5555555555555556,\"#d8576b\"],[0.6666666666666666,\"#ed7953\"],[0.7777777777777778,\"#fb9f3a\"],[0.8888888888888888,\"#fdca26\"],[1.0,\"#f0f921\"]]}],\"contourcarpet\":[{\"type\":\"contourcarpet\",\"colorbar\":{\"outlinewidth\":0,\"ticks\":\"\"}}],\"contour\":[{\"type\":\"contour\",\"colorbar\":{\"outlinewidth\":0,\"ticks\":\"\"},\"colorscale\":[[0.0,\"#0d0887\"],[0.1111111111111111,\"#46039f\"],[0.2222222222222222,\"#7201a8\"],[0.3333333333333333,\"#9c179e\"],[0.4444444444444444,\"#bd3786\"],[0.5555555555555556,\"#d8576b\"],[0.6666666666666666,\"#ed7953\"],[0.7777777777777778,\"#fb9f3a\"],[0.8888888888888888,\"#fdca26\"],[1.0,\"#f0f921\"]]}],\"surface\":[{\"type\":\"surface\",\"colorbar\":{\"outlinewidth\":0,\"ticks\":\"\"},\"colorscale\":[[0.0,\"#0d0887\"],[0.1111111111111111,\"#46039f\"],[0.2222222222222222,\"#7201a8\"],[0.3333333333333333,\"#9c179e\"],[0.4444444444444444,\"#bd3786\"],[0.5555555555555556,\"#d8576b\"],[0.6666666666666666,\"#ed7953\"],[0.7777777777777778,\"#fb9f3a\"],[0.8888888888888888,\"#fdca26\"],[1.0,\"#f0f921\"]]}],\"mesh3d\":[{\"type\":\"mesh3d\",\"colorbar\":{\"outlinewidth\":0,\"ticks\":\"\"}}],\"scatter\":[{\"fillpattern\":{\"fillmode\":\"overlay\",\"size\":10,\"solidity\":0.2},\"type\":\"scatter\"}],\"parcoords\":[{\"type\":\"parcoords\",\"line\":{\"colorbar\":{\"outlinewidth\":0,\"ticks\":\"\"}}}],\"scatterpolargl\":[{\"type\":\"scatterpolargl\",\"marker\":{\"colorbar\":{\"outlinewidth\":0,\"ticks\":\"\"}}}],\"bar\":[{\"error_x\":{\"color\":\"#2a3f5f\"},\"error_y\":{\"color\":\"#2a3f5f\"},\"marker\":{\"line\":{\"color\":\"#E5ECF6\",\"width\":0.5},\"pattern\":{\"fillmode\":\"overlay\",\"size\":10,\"solidity\":0.2}},\"type\":\"bar\"}],\"scattergeo\":[{\"type\":\"scattergeo\",\"marker\":{\"colorbar\":{\"outlinewidth\":0,\"ticks\":\"\"}}}],\"scatterpolar\":[{\"type\":\"scatterpolar\",\"marker\":{\"colorbar\":{\"outlinewidth\":0,\"ticks\":\"\"}}}],\"histogram\":[{\"marker\":{\"pattern\":{\"fillmode\":\"overlay\",\"size\":10,\"solidity\":0.2}},\"type\":\"histogram\"}],\"scattergl\":[{\"type\":\"scattergl\",\"marker\":{\"colorbar\":{\"outlinewidth\":0,\"ticks\":\"\"}}}],\"scatter3d\":[{\"type\":\"scatter3d\",\"line\":{\"colorbar\":{\"outlinewidth\":0,\"ticks\":\"\"}},\"marker\":{\"colorbar\":{\"outlinewidth\":0,\"ticks\":\"\"}}}],\"scattermapbox\":[{\"type\":\"scattermapbox\",\"marker\":{\"colorbar\":{\"outlinewidth\":0,\"ticks\":\"\"}}}],\"scatterternary\":[{\"type\":\"scatterternary\",\"marker\":{\"colorbar\":{\"outlinewidth\":0,\"ticks\":\"\"}}}],\"scattercarpet\":[{\"type\":\"scattercarpet\",\"marker\":{\"colorbar\":{\"outlinewidth\":0,\"ticks\":\"\"}}}],\"carpet\":[{\"aaxis\":{\"endlinecolor\":\"#2a3f5f\",\"gridcolor\":\"white\",\"linecolor\":\"white\",\"minorgridcolor\":\"white\",\"startlinecolor\":\"#2a3f5f\"},\"baxis\":{\"endlinecolor\":\"#2a3f5f\",\"gridcolor\":\"white\",\"linecolor\":\"white\",\"minorgridcolor\":\"white\",\"startlinecolor\":\"#2a3f5f\"},\"type\":\"carpet\"}],\"table\":[{\"cells\":{\"fill\":{\"color\":\"#EBF0F8\"},\"line\":{\"color\":\"white\"}},\"header\":{\"fill\":{\"color\":\"#C8D4E3\"},\"line\":{\"color\":\"white\"}},\"type\":\"table\"}],\"barpolar\":[{\"marker\":{\"line\":{\"color\":\"#E5ECF6\",\"width\":0.5},\"pattern\":{\"fillmode\":\"overlay\",\"size\":10,\"solidity\":0.2}},\"type\":\"barpolar\"}],\"pie\":[{\"automargin\":true,\"type\":\"pie\"}]},\"layout\":{\"autotypenumbers\":\"strict\",\"colorway\":[\"#636efa\",\"#EF553B\",\"#00cc96\",\"#ab63fa\",\"#FFA15A\",\"#19d3f3\",\"#FF6692\",\"#B6E880\",\"#FF97FF\",\"#FECB52\"],\"font\":{\"color\":\"#2a3f5f\"},\"hovermode\":\"closest\",\"hoverlabel\":{\"align\":\"left\"},\"paper_bgcolor\":\"white\",\"plot_bgcolor\":\"#E5ECF6\",\"polar\":{\"bgcolor\":\"#E5ECF6\",\"angularaxis\":{\"gridcolor\":\"white\",\"linecolor\":\"white\",\"ticks\":\"\"},\"radialaxis\":{\"gridcolor\":\"white\",\"linecolor\":\"white\",\"ticks\":\"\"}},\"ternary\":{\"bgcolor\":\"#E5ECF6\",\"aaxis\":{\"gridcolor\":\"white\",\"linecolor\":\"white\",\"ticks\":\"\"},\"baxis\":{\"gridcolor\":\"white\",\"linecolor\":\"white\",\"ticks\":\"\"},\"caxis\":{\"gridcolor\":\"white\",\"linecolor\":\"white\",\"ticks\":\"\"}},\"coloraxis\":{\"colorbar\":{\"outlinewidth\":0,\"ticks\":\"\"}},\"colorscale\":{\"sequential\":[[0.0,\"#0d0887\"],[0.1111111111111111,\"#46039f\"],[0.2222222222222222,\"#7201a8\"],[0.3333333333333333,\"#9c179e\"],[0.4444444444444444,\"#bd3786\"],[0.5555555555555556,\"#d8576b\"],[0.6666666666666666,\"#ed7953\"],[0.7777777777777778,\"#fb9f3a\"],[0.8888888888888888,\"#fdca26\"],[1.0,\"#f0f921\"]],\"sequentialminus\":[[0.0,\"#0d0887\"],[0.1111111111111111,\"#46039f\"],[0.2222222222222222,\"#7201a8\"],[0.3333333333333333,\"#9c179e\"],[0.4444444444444444,\"#bd3786\"],[0.5555555555555556,\"#d8576b\"],[0.6666666666666666,\"#ed7953\"],[0.7777777777777778,\"#fb9f3a\"],[0.8888888888888888,\"#fdca26\"],[1.0,\"#f0f921\"]],\"diverging\":[[0,\"#8e0152\"],[0.1,\"#c51b7d\"],[0.2,\"#de77ae\"],[0.3,\"#f1b6da\"],[0.4,\"#fde0ef\"],[0.5,\"#f7f7f7\"],[0.6,\"#e6f5d0\"],[0.7,\"#b8e186\"],[0.8,\"#7fbc41\"],[0.9,\"#4d9221\"],[1,\"#276419\"]]},\"xaxis\":{\"gridcolor\":\"white\",\"linecolor\":\"white\",\"ticks\":\"\",\"title\":{\"standoff\":15},\"zerolinecolor\":\"white\",\"automargin\":true,\"zerolinewidth\":2},\"yaxis\":{\"gridcolor\":\"white\",\"linecolor\":\"white\",\"ticks\":\"\",\"title\":{\"standoff\":15},\"zerolinecolor\":\"white\",\"automargin\":true,\"zerolinewidth\":2},\"scene\":{\"xaxis\":{\"backgroundcolor\":\"#E5ECF6\",\"gridcolor\":\"white\",\"linecolor\":\"white\",\"showbackground\":true,\"ticks\":\"\",\"zerolinecolor\":\"white\",\"gridwidth\":2},\"yaxis\":{\"backgroundcolor\":\"#E5ECF6\",\"gridcolor\":\"white\",\"linecolor\":\"white\",\"showbackground\":true,\"ticks\":\"\",\"zerolinecolor\":\"white\",\"gridwidth\":2},\"zaxis\":{\"backgroundcolor\":\"#E5ECF6\",\"gridcolor\":\"white\",\"linecolor\":\"white\",\"showbackground\":true,\"ticks\":\"\",\"zerolinecolor\":\"white\",\"gridwidth\":2}},\"shapedefaults\":{\"line\":{\"color\":\"#2a3f5f\"}},\"annotationdefaults\":{\"arrowcolor\":\"#2a3f5f\",\"arrowhead\":0,\"arrowwidth\":1},\"geo\":{\"bgcolor\":\"white\",\"landcolor\":\"#E5ECF6\",\"subunitcolor\":\"white\",\"showland\":true,\"showlakes\":true,\"lakecolor\":\"white\"},\"title\":{\"x\":0.05},\"mapbox\":{\"style\":\"light\"}}},\"xaxis\":{\"title\":{\"text\":\"Pair State\"},\"linecolor\":\"rgba(0,0,0,1)\",\"range\":[-0.5,9.5],\"tick0\":0,\"dtick\":1},\"yaxis\":{\"title\":{\"text\":\"N\"},\"linecolor\":\"rgba(0,0,0,1)\"},\"legend\":{\"yanchor\":\"top\",\"y\":0.95,\"xanchor\":\"left\",\"x\":0.65},\"margin\":{\"l\":350,\"r\":350,\"t\":50,\"b\":50},\"paper_bgcolor\":\"rgba(0, 0, 0, 0)\",\"plot_bgcolor\":\"rgba(0, 0, 0, 0)\",\"height\":400},                        {\"responsive\": true}                    ).then(function(){\n",
       "                            \n",
       "var gd = document.getElementById('5e7e1787-758e-4cca-a0ef-b8c3d942da61');\n",
       "var x = new MutationObserver(function (mutations, observer) {{\n",
       "        var display = window.getComputedStyle(gd).display;\n",
       "        if (!display || display === 'none') {{\n",
       "            console.log([gd, 'removed!']);\n",
       "            Plotly.purge(gd);\n",
       "            observer.disconnect();\n",
       "        }}\n",
       "}});\n",
       "\n",
       "// Listen for the removal of the full notebook cells\n",
       "var notebookContainer = gd.closest('#notebook-container');\n",
       "if (notebookContainer) {{\n",
       "    x.observe(notebookContainer, {childList: true});\n",
       "}}\n",
       "\n",
       "// Listen for the clearing of the current output cell\n",
       "var outputEl = gd.closest('.output');\n",
       "if (outputEl) {{\n",
       "    x.observe(outputEl, {childList: true});\n",
       "}}\n",
       "\n",
       "                        })                };                });            </script>        </div>"
      ]
     },
     "metadata": {},
     "output_type": "display_data"
    }
   ],
   "source": [
    "fig = go.Figure()\n",
    "\n",
    "for i in np.arange(np.shape(sf)[0]):\n",
    "    dfs = pd.read_csv(sf[i])\n",
    "    fig.add_trace(go.Scatter(x=x,y=dfs.prediction,\n",
    "                             mode='lines',\n",
    "                             line=dict(color='rgba(200, 200, 200, 0.3)'),\n",
    "                             showlegend=False,\n",
    "                             legendgroup=1,\n",
    "                            )\n",
    "                 )\n",
    "    \n",
    "fig.add_trace(go.Scatter(x=x,y=dfs.prediction,\n",
    "                         name='Permuted',\n",
    "                         mode='lines',\n",
    "                         line=dict(color='rgba(200, 200, 200, 0.9)'),\n",
    "                         legendrank=3,\n",
    "                         legendgroup=1\n",
    "                        )\n",
    "             )    \n",
    "fig.add_trace(go.Scatter(x=x,y=df.ground_truth,\n",
    "                         name='Truth',\n",
    "                         mode='lines',\n",
    "                         line=dict(color='rgba(0, 0, 0, 1)',dash='dot'),\n",
    "                         legendrank=1,\n",
    "                         legendgroup=1\n",
    "                        )\n",
    "             )\n",
    "fig.add_trace(go.Scatter(x=x,y=df.prediction,\n",
    "                         name='Test',\n",
    "                         mode='lines',\n",
    "                         line=dict(color='rgba(255, 0, 0, 1)'),\n",
    "                         legendrank=2,\n",
    "                         legendgroup=1\n",
    "                        )\n",
    "             )\n",
    "\n",
    "    \n",
    "#fig.update_scenes(xaxis_visible=False, yaxis_visible=False,zaxis_visible=False)\n",
    "fig.update_xaxes(linecolor='rgba(0,0,0,1)',\n",
    "                 range=[-0.5,9.5],\n",
    "                 tick0=0,\n",
    "                 dtick=1,\n",
    "                 title_text='Pair State'\n",
    "                )\n",
    "fig.update_yaxes(linecolor='rgba(0,0,0,1)',\n",
    "                 title_text='N'\n",
    "                )\n",
    "fig.update_layout(\n",
    "    paper_bgcolor='rgba(0, 0, 0, 0)',\n",
    "    plot_bgcolor='rgba(0, 0, 0, 0)',\n",
    "    legend=dict(yanchor=\"top\", y=0.95, xanchor=\"left\", x=0.65),\n",
    "    margin=dict(l=350, r=350, t=50, b=50),\n",
    "    height=400\n",
    ")"
   ]
  },
  {
   "cell_type": "code",
   "execution_count": 5,
   "id": "d280d647",
   "metadata": {},
   "outputs": [
    {
     "data": {
      "application/vnd.plotly.v1+json": {
       "config": {
        "plotlyServerURL": "https://plot.ly"
       },
       "data": [
        {
         "marker": {
          "color": "rgba(225,225,225,1)",
          "line": {
           "color": "rgba(0,0,0,1)",
           "width": 2
          },
          "size": 10
         },
         "mode": "markers",
         "name": "Permuted",
         "type": "scatter",
         "x": [
          -0.04424157016395891,
          -0.0431746266488943,
          0.03171238788433221,
          -0.017278547577123125,
          -0.04178680125152206,
          -0.018611722266085297,
          0.04214554411011323,
          -0.04521976487025553,
          -0.02395586737800505,
          -0.016966625083908206,
          0.04178560277606705,
          -0.02894496213168255,
          0.011304247538254167,
          -0.033405809608493875,
          0.033698256632910914,
          0.028934324729367966,
          0.036623858429545936,
          0.0021960461196715436,
          0.007831097442738709,
          -0.03261548630428897,
          -0.001838983192613164,
          0.04523634072517985,
          0.010278149990354778,
          -0.012480015328298066,
          0.04332342806472915,
          0.046969837134111056,
          0.03079777464363291,
          0.029728685147263997,
          0.01862381386346071,
          0.024064216906661842,
          -0.01539873943478242,
          0.021563959882750186,
          -0.03689608892844529,
          0.04765842199735812,
          -0.023076313465267576,
          0.03441542563564186,
          -0.03117704268901289,
          0.026967151116120733,
          0.03952862039649832,
          0.011307805459944212,
          0.021572621484899773,
          0.011613148815111475,
          0.04326758353940946,
          0.031236861122789436,
          -0.017811116885903158,
          0.04354224384063596,
          0.03977725577999969,
          -0.03152127172842531,
          0.016682662365894885,
          0.010632621298354253,
          -0.044583896758910384,
          -0.005964983032538083,
          -0.03104936247268192,
          0.04750603923589175,
          -0.007277011846219997,
          0.047761836124923226,
          -0.03996276132241126,
          -0.038331069927676244,
          -0.00519371312121699,
          0.005707223378760486,
          0.040178632126962474,
          0.04468766162944228,
          0.04189048554638618,
          0.02534639991959453,
          0.018247950576169167,
          0.012832856755791516,
          -0.04952916800460421,
          -0.001713165187655366,
          0.010687829313446875,
          0.032218680631112814,
          -0.00600527217913218,
          -0.023653594444904814,
          -0.03848530830584747,
          0.04651207330598221,
          -0.004051403356969477,
          -0.006986193480061284,
          0.006403576649534504,
          0.035323119731216476,
          0.00635809055350791,
          0.04826416979235361,
          0.024394782760080405,
          -0.027024365526977713,
          0.04935204492171846,
          -0.04891863950141814,
          0.04819651272572224,
          -0.0012318926847700168,
          -0.042161267270378604,
          -0.04986788223676805,
          0.029151602724111006,
          -0.04253292033809234,
          0.04279326497480729,
          0.01666510407612573,
          0.042764698942385174,
          0.041395448698597265,
          -0.01989654425409916,
          -0.032755939182241386,
          -0.0011444330535953715,
          0.00443099489023422,
          0.034443130808957084,
          -0.028722505745767492
         ],
         "y": [
          224.43796470294416,
          217.83342259625817,
          230.51615995413422,
          206.62841043767432,
          207.10118300000124,
          217.90938483690877,
          252.24888503222368,
          193.82234133350056,
          223.70359854056886,
          245.54775502944432,
          276.2491628946593,
          217.46608931049457,
          228.40774943070562,
          231.72979955111512,
          237.47926225251754,
          206.25203029303736,
          232.6222259372479,
          208.21551335095086,
          269.25471212218366,
          270.9363393862108,
          225.6375412026997,
          265.59725149180287,
          242.9191223432194,
          240.74696259766185,
          236.93437910104984,
          240.97116010012485,
          195.1919568015035,
          235.35675048742496,
          208.73236452452696,
          207.7806535748697,
          217.83089771655443,
          234.43165315289656,
          210.4618730316729,
          214.65856609974827,
          216.81489801210617,
          221.59422375143265,
          242.3522230143557,
          231.69807940507405,
          200.23511180609657,
          214.27995706551744,
          215.7146263005826,
          234.18496962871038,
          222.65736008495207,
          204.14088272563143,
          274.30967901260794,
          234.02158020148482,
          187.23114057228835,
          221.41205929217136,
          237.098080970724,
          192.86523792534516,
          230.03804033246328,
          206.30996098104424,
          263.8918339016954,
          233.830280331697,
          230.60008673025257,
          257.5051455796563,
          217.53643373007657,
          214.52435759139334,
          199.45049511094226,
          219.0821763631172,
          239.4794354427954,
          235.32233213190796,
          214.65903195533144,
          229.36673690838433,
          203.02413649613192,
          211.5176115598888,
          222.91298750857922,
          247.17301632662088,
          226.57691850671816,
          212.83397285208017,
          227.53087702551494,
          241.42804311015735,
          228.87660430895946,
          239.69042534068814,
          213.40149952612796,
          237.29306774535155,
          199.56753242950117,
          274.4844257876938,
          184.38194054733233,
          229.17678765529462,
          251.28052053432236,
          265.9734949200766,
          239.59194477277404,
          201.74860594313904,
          246.3016443306865,
          281.24224433751056,
          235.19608840284738,
          233.35252302042935,
          204.9343797414187,
          202.64500980779172,
          223.60612692857947,
          244.09977468240317,
          255.38774442012678,
          223.18131642232063,
          228.10633485284885,
          208.97703223081717,
          185.16317128414062,
          247.8866676527804,
          191.74488259142666,
          242.7772641743868
         ]
        },
        {
         "marker": {
          "color": "rgba(255,0,0,1)",
          "line": {
           "color": "rgba(0,0,0,1)",
           "width": 2
          },
          "size": 10
         },
         "mode": "markers",
         "name": "Test",
         "type": "scatter",
         "x": [
          0
         ],
         "y": [
          10.2810505299799
         ]
        }
       ],
       "layout": {
        "height": 400,
        "margin": {
         "b": 50,
         "l": 450,
         "r": 450,
         "t": 50
        },
        "paper_bgcolor": "rgba(0, 0, 0, 0)",
        "plot_bgcolor": "rgba(0, 0, 0, 0)",
        "template": {
         "data": {
          "bar": [
           {
            "error_x": {
             "color": "#2a3f5f"
            },
            "error_y": {
             "color": "#2a3f5f"
            },
            "marker": {
             "line": {
              "color": "#E5ECF6",
              "width": 0.5
             },
             "pattern": {
              "fillmode": "overlay",
              "size": 10,
              "solidity": 0.2
             }
            },
            "type": "bar"
           }
          ],
          "barpolar": [
           {
            "marker": {
             "line": {
              "color": "#E5ECF6",
              "width": 0.5
             },
             "pattern": {
              "fillmode": "overlay",
              "size": 10,
              "solidity": 0.2
             }
            },
            "type": "barpolar"
           }
          ],
          "carpet": [
           {
            "aaxis": {
             "endlinecolor": "#2a3f5f",
             "gridcolor": "white",
             "linecolor": "white",
             "minorgridcolor": "white",
             "startlinecolor": "#2a3f5f"
            },
            "baxis": {
             "endlinecolor": "#2a3f5f",
             "gridcolor": "white",
             "linecolor": "white",
             "minorgridcolor": "white",
             "startlinecolor": "#2a3f5f"
            },
            "type": "carpet"
           }
          ],
          "choropleth": [
           {
            "colorbar": {
             "outlinewidth": 0,
             "ticks": ""
            },
            "type": "choropleth"
           }
          ],
          "contour": [
           {
            "colorbar": {
             "outlinewidth": 0,
             "ticks": ""
            },
            "colorscale": [
             [
              0,
              "#0d0887"
             ],
             [
              0.1111111111111111,
              "#46039f"
             ],
             [
              0.2222222222222222,
              "#7201a8"
             ],
             [
              0.3333333333333333,
              "#9c179e"
             ],
             [
              0.4444444444444444,
              "#bd3786"
             ],
             [
              0.5555555555555556,
              "#d8576b"
             ],
             [
              0.6666666666666666,
              "#ed7953"
             ],
             [
              0.7777777777777778,
              "#fb9f3a"
             ],
             [
              0.8888888888888888,
              "#fdca26"
             ],
             [
              1,
              "#f0f921"
             ]
            ],
            "type": "contour"
           }
          ],
          "contourcarpet": [
           {
            "colorbar": {
             "outlinewidth": 0,
             "ticks": ""
            },
            "type": "contourcarpet"
           }
          ],
          "heatmap": [
           {
            "colorbar": {
             "outlinewidth": 0,
             "ticks": ""
            },
            "colorscale": [
             [
              0,
              "#0d0887"
             ],
             [
              0.1111111111111111,
              "#46039f"
             ],
             [
              0.2222222222222222,
              "#7201a8"
             ],
             [
              0.3333333333333333,
              "#9c179e"
             ],
             [
              0.4444444444444444,
              "#bd3786"
             ],
             [
              0.5555555555555556,
              "#d8576b"
             ],
             [
              0.6666666666666666,
              "#ed7953"
             ],
             [
              0.7777777777777778,
              "#fb9f3a"
             ],
             [
              0.8888888888888888,
              "#fdca26"
             ],
             [
              1,
              "#f0f921"
             ]
            ],
            "type": "heatmap"
           }
          ],
          "heatmapgl": [
           {
            "colorbar": {
             "outlinewidth": 0,
             "ticks": ""
            },
            "colorscale": [
             [
              0,
              "#0d0887"
             ],
             [
              0.1111111111111111,
              "#46039f"
             ],
             [
              0.2222222222222222,
              "#7201a8"
             ],
             [
              0.3333333333333333,
              "#9c179e"
             ],
             [
              0.4444444444444444,
              "#bd3786"
             ],
             [
              0.5555555555555556,
              "#d8576b"
             ],
             [
              0.6666666666666666,
              "#ed7953"
             ],
             [
              0.7777777777777778,
              "#fb9f3a"
             ],
             [
              0.8888888888888888,
              "#fdca26"
             ],
             [
              1,
              "#f0f921"
             ]
            ],
            "type": "heatmapgl"
           }
          ],
          "histogram": [
           {
            "marker": {
             "pattern": {
              "fillmode": "overlay",
              "size": 10,
              "solidity": 0.2
             }
            },
            "type": "histogram"
           }
          ],
          "histogram2d": [
           {
            "colorbar": {
             "outlinewidth": 0,
             "ticks": ""
            },
            "colorscale": [
             [
              0,
              "#0d0887"
             ],
             [
              0.1111111111111111,
              "#46039f"
             ],
             [
              0.2222222222222222,
              "#7201a8"
             ],
             [
              0.3333333333333333,
              "#9c179e"
             ],
             [
              0.4444444444444444,
              "#bd3786"
             ],
             [
              0.5555555555555556,
              "#d8576b"
             ],
             [
              0.6666666666666666,
              "#ed7953"
             ],
             [
              0.7777777777777778,
              "#fb9f3a"
             ],
             [
              0.8888888888888888,
              "#fdca26"
             ],
             [
              1,
              "#f0f921"
             ]
            ],
            "type": "histogram2d"
           }
          ],
          "histogram2dcontour": [
           {
            "colorbar": {
             "outlinewidth": 0,
             "ticks": ""
            },
            "colorscale": [
             [
              0,
              "#0d0887"
             ],
             [
              0.1111111111111111,
              "#46039f"
             ],
             [
              0.2222222222222222,
              "#7201a8"
             ],
             [
              0.3333333333333333,
              "#9c179e"
             ],
             [
              0.4444444444444444,
              "#bd3786"
             ],
             [
              0.5555555555555556,
              "#d8576b"
             ],
             [
              0.6666666666666666,
              "#ed7953"
             ],
             [
              0.7777777777777778,
              "#fb9f3a"
             ],
             [
              0.8888888888888888,
              "#fdca26"
             ],
             [
              1,
              "#f0f921"
             ]
            ],
            "type": "histogram2dcontour"
           }
          ],
          "mesh3d": [
           {
            "colorbar": {
             "outlinewidth": 0,
             "ticks": ""
            },
            "type": "mesh3d"
           }
          ],
          "parcoords": [
           {
            "line": {
             "colorbar": {
              "outlinewidth": 0,
              "ticks": ""
             }
            },
            "type": "parcoords"
           }
          ],
          "pie": [
           {
            "automargin": true,
            "type": "pie"
           }
          ],
          "scatter": [
           {
            "fillpattern": {
             "fillmode": "overlay",
             "size": 10,
             "solidity": 0.2
            },
            "type": "scatter"
           }
          ],
          "scatter3d": [
           {
            "line": {
             "colorbar": {
              "outlinewidth": 0,
              "ticks": ""
             }
            },
            "marker": {
             "colorbar": {
              "outlinewidth": 0,
              "ticks": ""
             }
            },
            "type": "scatter3d"
           }
          ],
          "scattercarpet": [
           {
            "marker": {
             "colorbar": {
              "outlinewidth": 0,
              "ticks": ""
             }
            },
            "type": "scattercarpet"
           }
          ],
          "scattergeo": [
           {
            "marker": {
             "colorbar": {
              "outlinewidth": 0,
              "ticks": ""
             }
            },
            "type": "scattergeo"
           }
          ],
          "scattergl": [
           {
            "marker": {
             "colorbar": {
              "outlinewidth": 0,
              "ticks": ""
             }
            },
            "type": "scattergl"
           }
          ],
          "scattermapbox": [
           {
            "marker": {
             "colorbar": {
              "outlinewidth": 0,
              "ticks": ""
             }
            },
            "type": "scattermapbox"
           }
          ],
          "scatterpolar": [
           {
            "marker": {
             "colorbar": {
              "outlinewidth": 0,
              "ticks": ""
             }
            },
            "type": "scatterpolar"
           }
          ],
          "scatterpolargl": [
           {
            "marker": {
             "colorbar": {
              "outlinewidth": 0,
              "ticks": ""
             }
            },
            "type": "scatterpolargl"
           }
          ],
          "scatterternary": [
           {
            "marker": {
             "colorbar": {
              "outlinewidth": 0,
              "ticks": ""
             }
            },
            "type": "scatterternary"
           }
          ],
          "surface": [
           {
            "colorbar": {
             "outlinewidth": 0,
             "ticks": ""
            },
            "colorscale": [
             [
              0,
              "#0d0887"
             ],
             [
              0.1111111111111111,
              "#46039f"
             ],
             [
              0.2222222222222222,
              "#7201a8"
             ],
             [
              0.3333333333333333,
              "#9c179e"
             ],
             [
              0.4444444444444444,
              "#bd3786"
             ],
             [
              0.5555555555555556,
              "#d8576b"
             ],
             [
              0.6666666666666666,
              "#ed7953"
             ],
             [
              0.7777777777777778,
              "#fb9f3a"
             ],
             [
              0.8888888888888888,
              "#fdca26"
             ],
             [
              1,
              "#f0f921"
             ]
            ],
            "type": "surface"
           }
          ],
          "table": [
           {
            "cells": {
             "fill": {
              "color": "#EBF0F8"
             },
             "line": {
              "color": "white"
             }
            },
            "header": {
             "fill": {
              "color": "#C8D4E3"
             },
             "line": {
              "color": "white"
             }
            },
            "type": "table"
           }
          ]
         },
         "layout": {
          "annotationdefaults": {
           "arrowcolor": "#2a3f5f",
           "arrowhead": 0,
           "arrowwidth": 1
          },
          "autotypenumbers": "strict",
          "coloraxis": {
           "colorbar": {
            "outlinewidth": 0,
            "ticks": ""
           }
          },
          "colorscale": {
           "diverging": [
            [
             0,
             "#8e0152"
            ],
            [
             0.1,
             "#c51b7d"
            ],
            [
             0.2,
             "#de77ae"
            ],
            [
             0.3,
             "#f1b6da"
            ],
            [
             0.4,
             "#fde0ef"
            ],
            [
             0.5,
             "#f7f7f7"
            ],
            [
             0.6,
             "#e6f5d0"
            ],
            [
             0.7,
             "#b8e186"
            ],
            [
             0.8,
             "#7fbc41"
            ],
            [
             0.9,
             "#4d9221"
            ],
            [
             1,
             "#276419"
            ]
           ],
           "sequential": [
            [
             0,
             "#0d0887"
            ],
            [
             0.1111111111111111,
             "#46039f"
            ],
            [
             0.2222222222222222,
             "#7201a8"
            ],
            [
             0.3333333333333333,
             "#9c179e"
            ],
            [
             0.4444444444444444,
             "#bd3786"
            ],
            [
             0.5555555555555556,
             "#d8576b"
            ],
            [
             0.6666666666666666,
             "#ed7953"
            ],
            [
             0.7777777777777778,
             "#fb9f3a"
            ],
            [
             0.8888888888888888,
             "#fdca26"
            ],
            [
             1,
             "#f0f921"
            ]
           ],
           "sequentialminus": [
            [
             0,
             "#0d0887"
            ],
            [
             0.1111111111111111,
             "#46039f"
            ],
            [
             0.2222222222222222,
             "#7201a8"
            ],
            [
             0.3333333333333333,
             "#9c179e"
            ],
            [
             0.4444444444444444,
             "#bd3786"
            ],
            [
             0.5555555555555556,
             "#d8576b"
            ],
            [
             0.6666666666666666,
             "#ed7953"
            ],
            [
             0.7777777777777778,
             "#fb9f3a"
            ],
            [
             0.8888888888888888,
             "#fdca26"
            ],
            [
             1,
             "#f0f921"
            ]
           ]
          },
          "colorway": [
           "#636efa",
           "#EF553B",
           "#00cc96",
           "#ab63fa",
           "#FFA15A",
           "#19d3f3",
           "#FF6692",
           "#B6E880",
           "#FF97FF",
           "#FECB52"
          ],
          "font": {
           "color": "#2a3f5f"
          },
          "geo": {
           "bgcolor": "white",
           "lakecolor": "white",
           "landcolor": "#E5ECF6",
           "showlakes": true,
           "showland": true,
           "subunitcolor": "white"
          },
          "hoverlabel": {
           "align": "left"
          },
          "hovermode": "closest",
          "mapbox": {
           "style": "light"
          },
          "paper_bgcolor": "white",
          "plot_bgcolor": "#E5ECF6",
          "polar": {
           "angularaxis": {
            "gridcolor": "white",
            "linecolor": "white",
            "ticks": ""
           },
           "bgcolor": "#E5ECF6",
           "radialaxis": {
            "gridcolor": "white",
            "linecolor": "white",
            "ticks": ""
           }
          },
          "scene": {
           "xaxis": {
            "backgroundcolor": "#E5ECF6",
            "gridcolor": "white",
            "gridwidth": 2,
            "linecolor": "white",
            "showbackground": true,
            "ticks": "",
            "zerolinecolor": "white"
           },
           "yaxis": {
            "backgroundcolor": "#E5ECF6",
            "gridcolor": "white",
            "gridwidth": 2,
            "linecolor": "white",
            "showbackground": true,
            "ticks": "",
            "zerolinecolor": "white"
           },
           "zaxis": {
            "backgroundcolor": "#E5ECF6",
            "gridcolor": "white",
            "gridwidth": 2,
            "linecolor": "white",
            "showbackground": true,
            "ticks": "",
            "zerolinecolor": "white"
           }
          },
          "shapedefaults": {
           "line": {
            "color": "#2a3f5f"
           }
          },
          "ternary": {
           "aaxis": {
            "gridcolor": "white",
            "linecolor": "white",
            "ticks": ""
           },
           "baxis": {
            "gridcolor": "white",
            "linecolor": "white",
            "ticks": ""
           },
           "bgcolor": "#E5ECF6",
           "caxis": {
            "gridcolor": "white",
            "linecolor": "white",
            "ticks": ""
           }
          },
          "title": {
           "x": 0.05
          },
          "xaxis": {
           "automargin": true,
           "gridcolor": "white",
           "linecolor": "white",
           "ticks": "",
           "title": {
            "standoff": 15
           },
           "zerolinecolor": "white",
           "zerolinewidth": 2
          },
          "yaxis": {
           "automargin": true,
           "gridcolor": "white",
           "linecolor": "white",
           "ticks": "",
           "title": {
            "standoff": 15
           },
           "zerolinecolor": "white",
           "zerolinewidth": 2
          }
         }
        },
        "xaxis": {
         "linecolor": "rgba(0,0,0,1)",
         "range": [
          -0.5,
          0.5
         ],
         "showticklabels": false,
         "title": {
          "text": "Predictions"
         }
        },
        "yaxis": {
         "linecolor": "rgba(0,0,0,1)",
         "title": {
          "text": "Root Mean Square Error"
         }
        }
       }
      },
      "text/html": [
       "<div>                            <div id=\"8675c5be-dfab-450a-bd2a-897a6eec23df\" class=\"plotly-graph-div\" style=\"height:400px; width:100%;\"></div>            <script type=\"text/javascript\">                require([\"plotly\"], function(Plotly) {                    window.PLOTLYENV=window.PLOTLYENV || {};                                    if (document.getElementById(\"8675c5be-dfab-450a-bd2a-897a6eec23df\")) {                    Plotly.newPlot(                        \"8675c5be-dfab-450a-bd2a-897a6eec23df\",                        [{\"marker\":{\"color\":\"rgba(225,225,225,1)\",\"line\":{\"color\":\"rgba(0,0,0,1)\",\"width\":2},\"size\":10},\"mode\":\"markers\",\"name\":\"Permuted\",\"x\":[-0.04424157016395891,-0.0431746266488943,0.03171238788433221,-0.017278547577123125,-0.04178680125152206,-0.018611722266085297,0.04214554411011323,-0.04521976487025553,-0.02395586737800505,-0.016966625083908206,0.04178560277606705,-0.02894496213168255,0.011304247538254167,-0.033405809608493875,0.033698256632910914,0.028934324729367966,0.036623858429545936,0.0021960461196715436,0.007831097442738709,-0.03261548630428897,-0.001838983192613164,0.04523634072517985,0.010278149990354778,-0.012480015328298066,0.04332342806472915,0.046969837134111056,0.03079777464363291,0.029728685147263997,0.01862381386346071,0.024064216906661842,-0.01539873943478242,0.021563959882750186,-0.03689608892844529,0.04765842199735812,-0.023076313465267576,0.03441542563564186,-0.03117704268901289,0.026967151116120733,0.03952862039649832,0.011307805459944212,0.021572621484899773,0.011613148815111475,0.04326758353940946,0.031236861122789436,-0.017811116885903158,0.04354224384063596,0.03977725577999969,-0.03152127172842531,0.016682662365894885,0.010632621298354253,-0.044583896758910384,-0.005964983032538083,-0.03104936247268192,0.04750603923589175,-0.007277011846219997,0.047761836124923226,-0.03996276132241126,-0.038331069927676244,-0.00519371312121699,0.005707223378760486,0.040178632126962474,0.04468766162944228,0.04189048554638618,0.02534639991959453,0.018247950576169167,0.012832856755791516,-0.04952916800460421,-0.001713165187655366,0.010687829313446875,0.032218680631112814,-0.00600527217913218,-0.023653594444904814,-0.03848530830584747,0.04651207330598221,-0.004051403356969477,-0.006986193480061284,0.006403576649534504,0.035323119731216476,0.00635809055350791,0.04826416979235361,0.024394782760080405,-0.027024365526977713,0.04935204492171846,-0.04891863950141814,0.04819651272572224,-0.0012318926847700168,-0.042161267270378604,-0.04986788223676805,0.029151602724111006,-0.04253292033809234,0.04279326497480729,0.01666510407612573,0.042764698942385174,0.041395448698597265,-0.01989654425409916,-0.032755939182241386,-0.0011444330535953715,0.00443099489023422,0.034443130808957084,-0.028722505745767492],\"y\":[224.43796470294416,217.83342259625817,230.51615995413422,206.62841043767432,207.10118300000124,217.90938483690877,252.24888503222368,193.82234133350056,223.70359854056886,245.54775502944432,276.2491628946593,217.46608931049457,228.40774943070562,231.72979955111512,237.47926225251754,206.25203029303736,232.6222259372479,208.21551335095086,269.25471212218366,270.9363393862108,225.6375412026997,265.59725149180287,242.9191223432194,240.74696259766185,236.93437910104984,240.97116010012485,195.1919568015035,235.35675048742496,208.73236452452696,207.7806535748697,217.83089771655443,234.43165315289656,210.4618730316729,214.65856609974827,216.81489801210617,221.59422375143265,242.3522230143557,231.69807940507405,200.23511180609657,214.27995706551744,215.7146263005826,234.18496962871038,222.65736008495207,204.14088272563143,274.30967901260794,234.02158020148482,187.23114057228835,221.41205929217136,237.098080970724,192.86523792534516,230.03804033246328,206.30996098104424,263.8918339016954,233.830280331697,230.60008673025257,257.5051455796563,217.53643373007657,214.52435759139334,199.45049511094226,219.0821763631172,239.4794354427954,235.32233213190796,214.65903195533144,229.36673690838433,203.02413649613192,211.5176115598888,222.91298750857922,247.17301632662088,226.57691850671816,212.83397285208017,227.53087702551494,241.42804311015735,228.87660430895946,239.69042534068814,213.40149952612796,237.29306774535155,199.56753242950117,274.4844257876938,184.38194054733233,229.17678765529462,251.28052053432236,265.9734949200766,239.59194477277404,201.74860594313904,246.3016443306865,281.24224433751056,235.19608840284738,233.35252302042935,204.9343797414187,202.64500980779172,223.60612692857947,244.09977468240317,255.38774442012678,223.18131642232063,228.10633485284885,208.97703223081717,185.16317128414062,247.8866676527804,191.74488259142666,242.7772641743868],\"type\":\"scatter\"},{\"marker\":{\"color\":\"rgba(255,0,0,1)\",\"line\":{\"color\":\"rgba(0,0,0,1)\",\"width\":2},\"size\":10},\"mode\":\"markers\",\"name\":\"Test\",\"x\":[0],\"y\":[10.2810505299799],\"type\":\"scatter\"}],                        {\"template\":{\"data\":{\"histogram2dcontour\":[{\"type\":\"histogram2dcontour\",\"colorbar\":{\"outlinewidth\":0,\"ticks\":\"\"},\"colorscale\":[[0.0,\"#0d0887\"],[0.1111111111111111,\"#46039f\"],[0.2222222222222222,\"#7201a8\"],[0.3333333333333333,\"#9c179e\"],[0.4444444444444444,\"#bd3786\"],[0.5555555555555556,\"#d8576b\"],[0.6666666666666666,\"#ed7953\"],[0.7777777777777778,\"#fb9f3a\"],[0.8888888888888888,\"#fdca26\"],[1.0,\"#f0f921\"]]}],\"choropleth\":[{\"type\":\"choropleth\",\"colorbar\":{\"outlinewidth\":0,\"ticks\":\"\"}}],\"histogram2d\":[{\"type\":\"histogram2d\",\"colorbar\":{\"outlinewidth\":0,\"ticks\":\"\"},\"colorscale\":[[0.0,\"#0d0887\"],[0.1111111111111111,\"#46039f\"],[0.2222222222222222,\"#7201a8\"],[0.3333333333333333,\"#9c179e\"],[0.4444444444444444,\"#bd3786\"],[0.5555555555555556,\"#d8576b\"],[0.6666666666666666,\"#ed7953\"],[0.7777777777777778,\"#fb9f3a\"],[0.8888888888888888,\"#fdca26\"],[1.0,\"#f0f921\"]]}],\"heatmap\":[{\"type\":\"heatmap\",\"colorbar\":{\"outlinewidth\":0,\"ticks\":\"\"},\"colorscale\":[[0.0,\"#0d0887\"],[0.1111111111111111,\"#46039f\"],[0.2222222222222222,\"#7201a8\"],[0.3333333333333333,\"#9c179e\"],[0.4444444444444444,\"#bd3786\"],[0.5555555555555556,\"#d8576b\"],[0.6666666666666666,\"#ed7953\"],[0.7777777777777778,\"#fb9f3a\"],[0.8888888888888888,\"#fdca26\"],[1.0,\"#f0f921\"]]}],\"heatmapgl\":[{\"type\":\"heatmapgl\",\"colorbar\":{\"outlinewidth\":0,\"ticks\":\"\"},\"colorscale\":[[0.0,\"#0d0887\"],[0.1111111111111111,\"#46039f\"],[0.2222222222222222,\"#7201a8\"],[0.3333333333333333,\"#9c179e\"],[0.4444444444444444,\"#bd3786\"],[0.5555555555555556,\"#d8576b\"],[0.6666666666666666,\"#ed7953\"],[0.7777777777777778,\"#fb9f3a\"],[0.8888888888888888,\"#fdca26\"],[1.0,\"#f0f921\"]]}],\"contourcarpet\":[{\"type\":\"contourcarpet\",\"colorbar\":{\"outlinewidth\":0,\"ticks\":\"\"}}],\"contour\":[{\"type\":\"contour\",\"colorbar\":{\"outlinewidth\":0,\"ticks\":\"\"},\"colorscale\":[[0.0,\"#0d0887\"],[0.1111111111111111,\"#46039f\"],[0.2222222222222222,\"#7201a8\"],[0.3333333333333333,\"#9c179e\"],[0.4444444444444444,\"#bd3786\"],[0.5555555555555556,\"#d8576b\"],[0.6666666666666666,\"#ed7953\"],[0.7777777777777778,\"#fb9f3a\"],[0.8888888888888888,\"#fdca26\"],[1.0,\"#f0f921\"]]}],\"surface\":[{\"type\":\"surface\",\"colorbar\":{\"outlinewidth\":0,\"ticks\":\"\"},\"colorscale\":[[0.0,\"#0d0887\"],[0.1111111111111111,\"#46039f\"],[0.2222222222222222,\"#7201a8\"],[0.3333333333333333,\"#9c179e\"],[0.4444444444444444,\"#bd3786\"],[0.5555555555555556,\"#d8576b\"],[0.6666666666666666,\"#ed7953\"],[0.7777777777777778,\"#fb9f3a\"],[0.8888888888888888,\"#fdca26\"],[1.0,\"#f0f921\"]]}],\"mesh3d\":[{\"type\":\"mesh3d\",\"colorbar\":{\"outlinewidth\":0,\"ticks\":\"\"}}],\"scatter\":[{\"fillpattern\":{\"fillmode\":\"overlay\",\"size\":10,\"solidity\":0.2},\"type\":\"scatter\"}],\"parcoords\":[{\"type\":\"parcoords\",\"line\":{\"colorbar\":{\"outlinewidth\":0,\"ticks\":\"\"}}}],\"scatterpolargl\":[{\"type\":\"scatterpolargl\",\"marker\":{\"colorbar\":{\"outlinewidth\":0,\"ticks\":\"\"}}}],\"bar\":[{\"error_x\":{\"color\":\"#2a3f5f\"},\"error_y\":{\"color\":\"#2a3f5f\"},\"marker\":{\"line\":{\"color\":\"#E5ECF6\",\"width\":0.5},\"pattern\":{\"fillmode\":\"overlay\",\"size\":10,\"solidity\":0.2}},\"type\":\"bar\"}],\"scattergeo\":[{\"type\":\"scattergeo\",\"marker\":{\"colorbar\":{\"outlinewidth\":0,\"ticks\":\"\"}}}],\"scatterpolar\":[{\"type\":\"scatterpolar\",\"marker\":{\"colorbar\":{\"outlinewidth\":0,\"ticks\":\"\"}}}],\"histogram\":[{\"marker\":{\"pattern\":{\"fillmode\":\"overlay\",\"size\":10,\"solidity\":0.2}},\"type\":\"histogram\"}],\"scattergl\":[{\"type\":\"scattergl\",\"marker\":{\"colorbar\":{\"outlinewidth\":0,\"ticks\":\"\"}}}],\"scatter3d\":[{\"type\":\"scatter3d\",\"line\":{\"colorbar\":{\"outlinewidth\":0,\"ticks\":\"\"}},\"marker\":{\"colorbar\":{\"outlinewidth\":0,\"ticks\":\"\"}}}],\"scattermapbox\":[{\"type\":\"scattermapbox\",\"marker\":{\"colorbar\":{\"outlinewidth\":0,\"ticks\":\"\"}}}],\"scatterternary\":[{\"type\":\"scatterternary\",\"marker\":{\"colorbar\":{\"outlinewidth\":0,\"ticks\":\"\"}}}],\"scattercarpet\":[{\"type\":\"scattercarpet\",\"marker\":{\"colorbar\":{\"outlinewidth\":0,\"ticks\":\"\"}}}],\"carpet\":[{\"aaxis\":{\"endlinecolor\":\"#2a3f5f\",\"gridcolor\":\"white\",\"linecolor\":\"white\",\"minorgridcolor\":\"white\",\"startlinecolor\":\"#2a3f5f\"},\"baxis\":{\"endlinecolor\":\"#2a3f5f\",\"gridcolor\":\"white\",\"linecolor\":\"white\",\"minorgridcolor\":\"white\",\"startlinecolor\":\"#2a3f5f\"},\"type\":\"carpet\"}],\"table\":[{\"cells\":{\"fill\":{\"color\":\"#EBF0F8\"},\"line\":{\"color\":\"white\"}},\"header\":{\"fill\":{\"color\":\"#C8D4E3\"},\"line\":{\"color\":\"white\"}},\"type\":\"table\"}],\"barpolar\":[{\"marker\":{\"line\":{\"color\":\"#E5ECF6\",\"width\":0.5},\"pattern\":{\"fillmode\":\"overlay\",\"size\":10,\"solidity\":0.2}},\"type\":\"barpolar\"}],\"pie\":[{\"automargin\":true,\"type\":\"pie\"}]},\"layout\":{\"autotypenumbers\":\"strict\",\"colorway\":[\"#636efa\",\"#EF553B\",\"#00cc96\",\"#ab63fa\",\"#FFA15A\",\"#19d3f3\",\"#FF6692\",\"#B6E880\",\"#FF97FF\",\"#FECB52\"],\"font\":{\"color\":\"#2a3f5f\"},\"hovermode\":\"closest\",\"hoverlabel\":{\"align\":\"left\"},\"paper_bgcolor\":\"white\",\"plot_bgcolor\":\"#E5ECF6\",\"polar\":{\"bgcolor\":\"#E5ECF6\",\"angularaxis\":{\"gridcolor\":\"white\",\"linecolor\":\"white\",\"ticks\":\"\"},\"radialaxis\":{\"gridcolor\":\"white\",\"linecolor\":\"white\",\"ticks\":\"\"}},\"ternary\":{\"bgcolor\":\"#E5ECF6\",\"aaxis\":{\"gridcolor\":\"white\",\"linecolor\":\"white\",\"ticks\":\"\"},\"baxis\":{\"gridcolor\":\"white\",\"linecolor\":\"white\",\"ticks\":\"\"},\"caxis\":{\"gridcolor\":\"white\",\"linecolor\":\"white\",\"ticks\":\"\"}},\"coloraxis\":{\"colorbar\":{\"outlinewidth\":0,\"ticks\":\"\"}},\"colorscale\":{\"sequential\":[[0.0,\"#0d0887\"],[0.1111111111111111,\"#46039f\"],[0.2222222222222222,\"#7201a8\"],[0.3333333333333333,\"#9c179e\"],[0.4444444444444444,\"#bd3786\"],[0.5555555555555556,\"#d8576b\"],[0.6666666666666666,\"#ed7953\"],[0.7777777777777778,\"#fb9f3a\"],[0.8888888888888888,\"#fdca26\"],[1.0,\"#f0f921\"]],\"sequentialminus\":[[0.0,\"#0d0887\"],[0.1111111111111111,\"#46039f\"],[0.2222222222222222,\"#7201a8\"],[0.3333333333333333,\"#9c179e\"],[0.4444444444444444,\"#bd3786\"],[0.5555555555555556,\"#d8576b\"],[0.6666666666666666,\"#ed7953\"],[0.7777777777777778,\"#fb9f3a\"],[0.8888888888888888,\"#fdca26\"],[1.0,\"#f0f921\"]],\"diverging\":[[0,\"#8e0152\"],[0.1,\"#c51b7d\"],[0.2,\"#de77ae\"],[0.3,\"#f1b6da\"],[0.4,\"#fde0ef\"],[0.5,\"#f7f7f7\"],[0.6,\"#e6f5d0\"],[0.7,\"#b8e186\"],[0.8,\"#7fbc41\"],[0.9,\"#4d9221\"],[1,\"#276419\"]]},\"xaxis\":{\"gridcolor\":\"white\",\"linecolor\":\"white\",\"ticks\":\"\",\"title\":{\"standoff\":15},\"zerolinecolor\":\"white\",\"automargin\":true,\"zerolinewidth\":2},\"yaxis\":{\"gridcolor\":\"white\",\"linecolor\":\"white\",\"ticks\":\"\",\"title\":{\"standoff\":15},\"zerolinecolor\":\"white\",\"automargin\":true,\"zerolinewidth\":2},\"scene\":{\"xaxis\":{\"backgroundcolor\":\"#E5ECF6\",\"gridcolor\":\"white\",\"linecolor\":\"white\",\"showbackground\":true,\"ticks\":\"\",\"zerolinecolor\":\"white\",\"gridwidth\":2},\"yaxis\":{\"backgroundcolor\":\"#E5ECF6\",\"gridcolor\":\"white\",\"linecolor\":\"white\",\"showbackground\":true,\"ticks\":\"\",\"zerolinecolor\":\"white\",\"gridwidth\":2},\"zaxis\":{\"backgroundcolor\":\"#E5ECF6\",\"gridcolor\":\"white\",\"linecolor\":\"white\",\"showbackground\":true,\"ticks\":\"\",\"zerolinecolor\":\"white\",\"gridwidth\":2}},\"shapedefaults\":{\"line\":{\"color\":\"#2a3f5f\"}},\"annotationdefaults\":{\"arrowcolor\":\"#2a3f5f\",\"arrowhead\":0,\"arrowwidth\":1},\"geo\":{\"bgcolor\":\"white\",\"landcolor\":\"#E5ECF6\",\"subunitcolor\":\"white\",\"showland\":true,\"showlakes\":true,\"lakecolor\":\"white\"},\"title\":{\"x\":0.05},\"mapbox\":{\"style\":\"light\"}}},\"xaxis\":{\"title\":{\"text\":\"Predictions\"},\"linecolor\":\"rgba(0,0,0,1)\",\"range\":[-0.5,0.5],\"showticklabels\":false},\"yaxis\":{\"title\":{\"text\":\"Root Mean Square Error\"},\"linecolor\":\"rgba(0,0,0,1)\"},\"margin\":{\"l\":450,\"r\":450,\"t\":50,\"b\":50},\"paper_bgcolor\":\"rgba(0, 0, 0, 0)\",\"plot_bgcolor\":\"rgba(0, 0, 0, 0)\",\"height\":400},                        {\"responsive\": true}                    ).then(function(){\n",
       "                            \n",
       "var gd = document.getElementById('8675c5be-dfab-450a-bd2a-897a6eec23df');\n",
       "var x = new MutationObserver(function (mutations, observer) {{\n",
       "        var display = window.getComputedStyle(gd).display;\n",
       "        if (!display || display === 'none') {{\n",
       "            console.log([gd, 'removed!']);\n",
       "            Plotly.purge(gd);\n",
       "            observer.disconnect();\n",
       "        }}\n",
       "}});\n",
       "\n",
       "// Listen for the removal of the full notebook cells\n",
       "var notebookContainer = gd.closest('#notebook-container');\n",
       "if (notebookContainer) {{\n",
       "    x.observe(notebookContainer, {childList: true});\n",
       "}}\n",
       "\n",
       "// Listen for the clearing of the current output cell\n",
       "var outputEl = gd.closest('.output');\n",
       "if (outputEl) {{\n",
       "    x.observe(outputEl, {childList: true});\n",
       "}}\n",
       "\n",
       "                        })                };                });            </script>        </div>"
      ]
     },
     "metadata": {},
     "output_type": "display_data"
    }
   ],
   "source": [
    "fig2 = go.Figure()\n",
    "dfs_rms=np.zeros(100)\n",
    "xr=0.1*np.random.rand(100)-.05\n",
    "\n",
    "for i in np.arange(np.shape(sf)[0]):\n",
    "    dfs = pd.read_csv(sf[i])\n",
    "    dfs_rms[i] = (st.mean((dfs.prediction-dfs.ground_truth)**2))**0.5\n",
    "\n",
    "fig2.add_trace(go.Scatter(x=xr,y=dfs_rms,\n",
    "                          mode='markers',\n",
    "                          name='Permuted',\n",
    "                          marker=dict(size=10,\n",
    "                                      color='rgba(225,225,225,1)',\n",
    "                                      line=dict(width=2,\n",
    "                                               color='rgba(0,0,0,1)')\n",
    "                          )\n",
    "                          ))\n",
    "fig2.add_trace(go.Scatter(x=[0],y=[(st.mean((df.prediction-df.ground_truth)**2))**0.5],\n",
    "                          mode='markers',\n",
    "                          name='Test',\n",
    "                          marker=dict(size=10,\n",
    "                                     color='rgba(255,0,0,1)',\n",
    "                                     line=dict(width=2,\n",
    "                                              color='rgba(0,0,0,1)')\n",
    "                                     )\n",
    "                         )\n",
    "              )\n",
    "\n",
    "fig2.update_xaxes(linecolor='rgba(0,0,0,1)',\n",
    "                  range=[-0.5,.5],\n",
    "                  showticklabels=False,\n",
    "                  title_text='Predictions',\n",
    "                )\n",
    "fig2.update_yaxes(linecolor='rgba(0,0,0,1)',\n",
    "                 title_text='Root Mean Square Error'\n",
    "                )\n",
    "fig2.update_layout(\n",
    "    paper_bgcolor='rgba(0, 0, 0, 0)',\n",
    "    plot_bgcolor='rgba(0, 0, 0, 0)',\n",
    "    margin=dict(l=450, r=450, t=50, b=50),\n",
    "    height=400\n",
    ")"
   ]
  },
  {
   "cell_type": "code",
   "execution_count": 8,
   "id": "f40255ec",
   "metadata": {},
   "outputs": [
    {
     "data": {
      "application/vnd.plotly.v1+json": {
       "config": {
        "plotlyServerURL": "https://plot.ly"
       },
       "data": [
        {
         "marker": {
          "color": "rgba(225,225,225,1)",
          "line": {
           "color": "rgba(0,0,0,1)",
           "width": 2
          },
          "size": 10
         },
         "mode": "markers",
         "name": "Permuted",
         "type": "scatter",
         "x": [
          -0.04424157016395891,
          -0.0431746266488943,
          0.03171238788433221,
          -0.017278547577123125,
          -0.04178680125152206,
          -0.018611722266085297,
          0.04214554411011323,
          -0.04521976487025553,
          -0.02395586737800505,
          -0.016966625083908206,
          0.04178560277606705,
          -0.02894496213168255,
          0.011304247538254167,
          -0.033405809608493875,
          0.033698256632910914,
          0.028934324729367966,
          0.036623858429545936,
          0.0021960461196715436,
          0.007831097442738709,
          -0.03261548630428897,
          -0.001838983192613164,
          0.04523634072517985,
          0.010278149990354778,
          -0.012480015328298066,
          0.04332342806472915,
          0.046969837134111056,
          0.03079777464363291,
          0.029728685147263997,
          0.01862381386346071,
          0.024064216906661842,
          -0.01539873943478242,
          0.021563959882750186,
          -0.03689608892844529,
          0.04765842199735812,
          -0.023076313465267576,
          0.03441542563564186,
          -0.03117704268901289,
          0.026967151116120733,
          0.03952862039649832,
          0.011307805459944212,
          0.021572621484899773,
          0.011613148815111475,
          0.04326758353940946,
          0.031236861122789436,
          -0.017811116885903158,
          0.04354224384063596,
          0.03977725577999969,
          -0.03152127172842531,
          0.016682662365894885,
          0.010632621298354253,
          -0.044583896758910384,
          -0.005964983032538083,
          -0.03104936247268192,
          0.04750603923589175,
          -0.007277011846219997,
          0.047761836124923226,
          -0.03996276132241126,
          -0.038331069927676244,
          -0.00519371312121699,
          0.005707223378760486,
          0.040178632126962474,
          0.04468766162944228,
          0.04189048554638618,
          0.02534639991959453,
          0.018247950576169167,
          0.012832856755791516,
          -0.04952916800460421,
          -0.001713165187655366,
          0.010687829313446875,
          0.032218680631112814,
          -0.00600527217913218,
          -0.023653594444904814,
          -0.03848530830584747,
          0.04651207330598221,
          -0.004051403356969477,
          -0.006986193480061284,
          0.006403576649534504,
          0.035323119731216476,
          0.00635809055350791,
          0.04826416979235361,
          0.024394782760080405,
          -0.027024365526977713,
          0.04935204492171846,
          -0.04891863950141814,
          0.04819651272572224,
          -0.0012318926847700168,
          -0.042161267270378604,
          -0.04986788223676805,
          0.029151602724111006,
          -0.04253292033809234,
          0.04279326497480729,
          0.01666510407612573,
          0.042764698942385174,
          0.041395448698597265,
          -0.01989654425409916,
          -0.032755939182241386,
          -0.0011444330535953715,
          0.00443099489023422,
          0.034443130808957084,
          -0.028722505745767492
         ],
         "y": [
          5.846774193548387,
          7.056451612903226,
          4.435483870967742,
          7.661290322580645,
          13.306451612903226,
          6.653225806451613,
          6.048387096774194,
          2.1169354838709675,
          2.721774193548387,
          3.629032258064516,
          5.241935483870968,
          3.629032258064516,
          10.181451612903226,
          5.645161290322581,
          5.141129032258065,
          3.629032258064516,
          5.141129032258065,
          7.762096774193548,
          4.233870967741935,
          8.366935483870968,
          8.165322580645162,
          6.149193548387097,
          5.342741935483871,
          6.048387096774194,
          8.77016129032258,
          16.028225806451612,
          4.737903225806452,
          5.745967741935484,
          11.391129032258064,
          7.358870967741935,
          10.987903225806452,
          5.645161290322581,
          10.685483870967742,
          7.762096774193548,
          5.241935483870968,
          3.7298387096774195,
          7.056451612903226,
          5.342741935483871,
          4.536290322580645,
          8.366935483870968,
          7.661290322580645,
          6.25,
          9.173387096774194,
          8.366935483870968,
          7.862903225806452,
          9.274193548387096,
          9.173387096774194,
          11.088709677419354,
          6.350806451612903,
          2.4193548387096775,
          11.693548387096774,
          10.383064516129032,
          8.46774193548387,
          4.233870967741935,
          11.59274193548387,
          8.46774193548387,
          9.475806451612904,
          2.9233870967741935,
          7.459677419354839,
          5.645161290322581,
          7.560483870967742,
          8.46774193548387,
          8.366935483870968,
          8.366935483870968,
          7.762096774193548,
          3.7298387096774195,
          11.693548387096774,
          12.600806451612904,
          6.955645161290323,
          2.620967741935484,
          3.528225806451613,
          6.754032258064516,
          5.846774193548387,
          7.762096774193548,
          6.149193548387097,
          2.620967741935484,
          9.576612903225806,
          7.560483870967742,
          7.258064516129032,
          8.165322580645162,
          9.67741935483871,
          5.745967741935484,
          7.963709677419355,
          8.46774193548387,
          7.157258064516129,
          12.399193548387096,
          10.987903225806452,
          6.854838709677419,
          3.4274193548387095,
          8.064516129032258,
          7.963709677419355,
          10.887096774193548,
          10.584677419354838,
          6.754032258064516,
          3.4274193548387095,
          4.334677419354839,
          8.870967741935484,
          11.290322580645162,
          9.274193548387096,
          13.40725806451613
         ]
        },
        {
         "marker": {
          "color": "rgba(255,0,0,1)",
          "line": {
           "color": "rgba(0,0,0,1)",
           "width": 2
          },
          "size": 10
         },
         "mode": "markers",
         "name": "Test",
         "type": "scatter",
         "x": [
          0
         ],
         "y": [
          86.08870967741936
         ]
        }
       ],
       "layout": {
        "height": 400,
        "margin": {
         "b": 50,
         "l": 450,
         "r": 450,
         "t": 50
        },
        "paper_bgcolor": "rgba(0, 0, 0, 0)",
        "plot_bgcolor": "rgba(0, 0, 0, 0)",
        "template": {
         "data": {
          "bar": [
           {
            "error_x": {
             "color": "#2a3f5f"
            },
            "error_y": {
             "color": "#2a3f5f"
            },
            "marker": {
             "line": {
              "color": "#E5ECF6",
              "width": 0.5
             },
             "pattern": {
              "fillmode": "overlay",
              "size": 10,
              "solidity": 0.2
             }
            },
            "type": "bar"
           }
          ],
          "barpolar": [
           {
            "marker": {
             "line": {
              "color": "#E5ECF6",
              "width": 0.5
             },
             "pattern": {
              "fillmode": "overlay",
              "size": 10,
              "solidity": 0.2
             }
            },
            "type": "barpolar"
           }
          ],
          "carpet": [
           {
            "aaxis": {
             "endlinecolor": "#2a3f5f",
             "gridcolor": "white",
             "linecolor": "white",
             "minorgridcolor": "white",
             "startlinecolor": "#2a3f5f"
            },
            "baxis": {
             "endlinecolor": "#2a3f5f",
             "gridcolor": "white",
             "linecolor": "white",
             "minorgridcolor": "white",
             "startlinecolor": "#2a3f5f"
            },
            "type": "carpet"
           }
          ],
          "choropleth": [
           {
            "colorbar": {
             "outlinewidth": 0,
             "ticks": ""
            },
            "type": "choropleth"
           }
          ],
          "contour": [
           {
            "colorbar": {
             "outlinewidth": 0,
             "ticks": ""
            },
            "colorscale": [
             [
              0,
              "#0d0887"
             ],
             [
              0.1111111111111111,
              "#46039f"
             ],
             [
              0.2222222222222222,
              "#7201a8"
             ],
             [
              0.3333333333333333,
              "#9c179e"
             ],
             [
              0.4444444444444444,
              "#bd3786"
             ],
             [
              0.5555555555555556,
              "#d8576b"
             ],
             [
              0.6666666666666666,
              "#ed7953"
             ],
             [
              0.7777777777777778,
              "#fb9f3a"
             ],
             [
              0.8888888888888888,
              "#fdca26"
             ],
             [
              1,
              "#f0f921"
             ]
            ],
            "type": "contour"
           }
          ],
          "contourcarpet": [
           {
            "colorbar": {
             "outlinewidth": 0,
             "ticks": ""
            },
            "type": "contourcarpet"
           }
          ],
          "heatmap": [
           {
            "colorbar": {
             "outlinewidth": 0,
             "ticks": ""
            },
            "colorscale": [
             [
              0,
              "#0d0887"
             ],
             [
              0.1111111111111111,
              "#46039f"
             ],
             [
              0.2222222222222222,
              "#7201a8"
             ],
             [
              0.3333333333333333,
              "#9c179e"
             ],
             [
              0.4444444444444444,
              "#bd3786"
             ],
             [
              0.5555555555555556,
              "#d8576b"
             ],
             [
              0.6666666666666666,
              "#ed7953"
             ],
             [
              0.7777777777777778,
              "#fb9f3a"
             ],
             [
              0.8888888888888888,
              "#fdca26"
             ],
             [
              1,
              "#f0f921"
             ]
            ],
            "type": "heatmap"
           }
          ],
          "heatmapgl": [
           {
            "colorbar": {
             "outlinewidth": 0,
             "ticks": ""
            },
            "colorscale": [
             [
              0,
              "#0d0887"
             ],
             [
              0.1111111111111111,
              "#46039f"
             ],
             [
              0.2222222222222222,
              "#7201a8"
             ],
             [
              0.3333333333333333,
              "#9c179e"
             ],
             [
              0.4444444444444444,
              "#bd3786"
             ],
             [
              0.5555555555555556,
              "#d8576b"
             ],
             [
              0.6666666666666666,
              "#ed7953"
             ],
             [
              0.7777777777777778,
              "#fb9f3a"
             ],
             [
              0.8888888888888888,
              "#fdca26"
             ],
             [
              1,
              "#f0f921"
             ]
            ],
            "type": "heatmapgl"
           }
          ],
          "histogram": [
           {
            "marker": {
             "pattern": {
              "fillmode": "overlay",
              "size": 10,
              "solidity": 0.2
             }
            },
            "type": "histogram"
           }
          ],
          "histogram2d": [
           {
            "colorbar": {
             "outlinewidth": 0,
             "ticks": ""
            },
            "colorscale": [
             [
              0,
              "#0d0887"
             ],
             [
              0.1111111111111111,
              "#46039f"
             ],
             [
              0.2222222222222222,
              "#7201a8"
             ],
             [
              0.3333333333333333,
              "#9c179e"
             ],
             [
              0.4444444444444444,
              "#bd3786"
             ],
             [
              0.5555555555555556,
              "#d8576b"
             ],
             [
              0.6666666666666666,
              "#ed7953"
             ],
             [
              0.7777777777777778,
              "#fb9f3a"
             ],
             [
              0.8888888888888888,
              "#fdca26"
             ],
             [
              1,
              "#f0f921"
             ]
            ],
            "type": "histogram2d"
           }
          ],
          "histogram2dcontour": [
           {
            "colorbar": {
             "outlinewidth": 0,
             "ticks": ""
            },
            "colorscale": [
             [
              0,
              "#0d0887"
             ],
             [
              0.1111111111111111,
              "#46039f"
             ],
             [
              0.2222222222222222,
              "#7201a8"
             ],
             [
              0.3333333333333333,
              "#9c179e"
             ],
             [
              0.4444444444444444,
              "#bd3786"
             ],
             [
              0.5555555555555556,
              "#d8576b"
             ],
             [
              0.6666666666666666,
              "#ed7953"
             ],
             [
              0.7777777777777778,
              "#fb9f3a"
             ],
             [
              0.8888888888888888,
              "#fdca26"
             ],
             [
              1,
              "#f0f921"
             ]
            ],
            "type": "histogram2dcontour"
           }
          ],
          "mesh3d": [
           {
            "colorbar": {
             "outlinewidth": 0,
             "ticks": ""
            },
            "type": "mesh3d"
           }
          ],
          "parcoords": [
           {
            "line": {
             "colorbar": {
              "outlinewidth": 0,
              "ticks": ""
             }
            },
            "type": "parcoords"
           }
          ],
          "pie": [
           {
            "automargin": true,
            "type": "pie"
           }
          ],
          "scatter": [
           {
            "fillpattern": {
             "fillmode": "overlay",
             "size": 10,
             "solidity": 0.2
            },
            "type": "scatter"
           }
          ],
          "scatter3d": [
           {
            "line": {
             "colorbar": {
              "outlinewidth": 0,
              "ticks": ""
             }
            },
            "marker": {
             "colorbar": {
              "outlinewidth": 0,
              "ticks": ""
             }
            },
            "type": "scatter3d"
           }
          ],
          "scattercarpet": [
           {
            "marker": {
             "colorbar": {
              "outlinewidth": 0,
              "ticks": ""
             }
            },
            "type": "scattercarpet"
           }
          ],
          "scattergeo": [
           {
            "marker": {
             "colorbar": {
              "outlinewidth": 0,
              "ticks": ""
             }
            },
            "type": "scattergeo"
           }
          ],
          "scattergl": [
           {
            "marker": {
             "colorbar": {
              "outlinewidth": 0,
              "ticks": ""
             }
            },
            "type": "scattergl"
           }
          ],
          "scattermapbox": [
           {
            "marker": {
             "colorbar": {
              "outlinewidth": 0,
              "ticks": ""
             }
            },
            "type": "scattermapbox"
           }
          ],
          "scatterpolar": [
           {
            "marker": {
             "colorbar": {
              "outlinewidth": 0,
              "ticks": ""
             }
            },
            "type": "scatterpolar"
           }
          ],
          "scatterpolargl": [
           {
            "marker": {
             "colorbar": {
              "outlinewidth": 0,
              "ticks": ""
             }
            },
            "type": "scatterpolargl"
           }
          ],
          "scatterternary": [
           {
            "marker": {
             "colorbar": {
              "outlinewidth": 0,
              "ticks": ""
             }
            },
            "type": "scatterternary"
           }
          ],
          "surface": [
           {
            "colorbar": {
             "outlinewidth": 0,
             "ticks": ""
            },
            "colorscale": [
             [
              0,
              "#0d0887"
             ],
             [
              0.1111111111111111,
              "#46039f"
             ],
             [
              0.2222222222222222,
              "#7201a8"
             ],
             [
              0.3333333333333333,
              "#9c179e"
             ],
             [
              0.4444444444444444,
              "#bd3786"
             ],
             [
              0.5555555555555556,
              "#d8576b"
             ],
             [
              0.6666666666666666,
              "#ed7953"
             ],
             [
              0.7777777777777778,
              "#fb9f3a"
             ],
             [
              0.8888888888888888,
              "#fdca26"
             ],
             [
              1,
              "#f0f921"
             ]
            ],
            "type": "surface"
           }
          ],
          "table": [
           {
            "cells": {
             "fill": {
              "color": "#EBF0F8"
             },
             "line": {
              "color": "white"
             }
            },
            "header": {
             "fill": {
              "color": "#C8D4E3"
             },
             "line": {
              "color": "white"
             }
            },
            "type": "table"
           }
          ]
         },
         "layout": {
          "annotationdefaults": {
           "arrowcolor": "#2a3f5f",
           "arrowhead": 0,
           "arrowwidth": 1
          },
          "autotypenumbers": "strict",
          "coloraxis": {
           "colorbar": {
            "outlinewidth": 0,
            "ticks": ""
           }
          },
          "colorscale": {
           "diverging": [
            [
             0,
             "#8e0152"
            ],
            [
             0.1,
             "#c51b7d"
            ],
            [
             0.2,
             "#de77ae"
            ],
            [
             0.3,
             "#f1b6da"
            ],
            [
             0.4,
             "#fde0ef"
            ],
            [
             0.5,
             "#f7f7f7"
            ],
            [
             0.6,
             "#e6f5d0"
            ],
            [
             0.7,
             "#b8e186"
            ],
            [
             0.8,
             "#7fbc41"
            ],
            [
             0.9,
             "#4d9221"
            ],
            [
             1,
             "#276419"
            ]
           ],
           "sequential": [
            [
             0,
             "#0d0887"
            ],
            [
             0.1111111111111111,
             "#46039f"
            ],
            [
             0.2222222222222222,
             "#7201a8"
            ],
            [
             0.3333333333333333,
             "#9c179e"
            ],
            [
             0.4444444444444444,
             "#bd3786"
            ],
            [
             0.5555555555555556,
             "#d8576b"
            ],
            [
             0.6666666666666666,
             "#ed7953"
            ],
            [
             0.7777777777777778,
             "#fb9f3a"
            ],
            [
             0.8888888888888888,
             "#fdca26"
            ],
            [
             1,
             "#f0f921"
            ]
           ],
           "sequentialminus": [
            [
             0,
             "#0d0887"
            ],
            [
             0.1111111111111111,
             "#46039f"
            ],
            [
             0.2222222222222222,
             "#7201a8"
            ],
            [
             0.3333333333333333,
             "#9c179e"
            ],
            [
             0.4444444444444444,
             "#bd3786"
            ],
            [
             0.5555555555555556,
             "#d8576b"
            ],
            [
             0.6666666666666666,
             "#ed7953"
            ],
            [
             0.7777777777777778,
             "#fb9f3a"
            ],
            [
             0.8888888888888888,
             "#fdca26"
            ],
            [
             1,
             "#f0f921"
            ]
           ]
          },
          "colorway": [
           "#636efa",
           "#EF553B",
           "#00cc96",
           "#ab63fa",
           "#FFA15A",
           "#19d3f3",
           "#FF6692",
           "#B6E880",
           "#FF97FF",
           "#FECB52"
          ],
          "font": {
           "color": "#2a3f5f"
          },
          "geo": {
           "bgcolor": "white",
           "lakecolor": "white",
           "landcolor": "#E5ECF6",
           "showlakes": true,
           "showland": true,
           "subunitcolor": "white"
          },
          "hoverlabel": {
           "align": "left"
          },
          "hovermode": "closest",
          "mapbox": {
           "style": "light"
          },
          "paper_bgcolor": "white",
          "plot_bgcolor": "#E5ECF6",
          "polar": {
           "angularaxis": {
            "gridcolor": "white",
            "linecolor": "white",
            "ticks": ""
           },
           "bgcolor": "#E5ECF6",
           "radialaxis": {
            "gridcolor": "white",
            "linecolor": "white",
            "ticks": ""
           }
          },
          "scene": {
           "xaxis": {
            "backgroundcolor": "#E5ECF6",
            "gridcolor": "white",
            "gridwidth": 2,
            "linecolor": "white",
            "showbackground": true,
            "ticks": "",
            "zerolinecolor": "white"
           },
           "yaxis": {
            "backgroundcolor": "#E5ECF6",
            "gridcolor": "white",
            "gridwidth": 2,
            "linecolor": "white",
            "showbackground": true,
            "ticks": "",
            "zerolinecolor": "white"
           },
           "zaxis": {
            "backgroundcolor": "#E5ECF6",
            "gridcolor": "white",
            "gridwidth": 2,
            "linecolor": "white",
            "showbackground": true,
            "ticks": "",
            "zerolinecolor": "white"
           }
          },
          "shapedefaults": {
           "line": {
            "color": "#2a3f5f"
           }
          },
          "ternary": {
           "aaxis": {
            "gridcolor": "white",
            "linecolor": "white",
            "ticks": ""
           },
           "baxis": {
            "gridcolor": "white",
            "linecolor": "white",
            "ticks": ""
           },
           "bgcolor": "#E5ECF6",
           "caxis": {
            "gridcolor": "white",
            "linecolor": "white",
            "ticks": ""
           }
          },
          "title": {
           "x": 0.05
          },
          "xaxis": {
           "automargin": true,
           "gridcolor": "white",
           "linecolor": "white",
           "ticks": "",
           "title": {
            "standoff": 15
           },
           "zerolinecolor": "white",
           "zerolinewidth": 2
          },
          "yaxis": {
           "automargin": true,
           "gridcolor": "white",
           "linecolor": "white",
           "ticks": "",
           "title": {
            "standoff": 15
           },
           "zerolinecolor": "white",
           "zerolinewidth": 2
          }
         }
        },
        "xaxis": {
         "linecolor": "rgba(0,0,0,1)",
         "range": [
          -0.5,
          0.5
         ],
         "showticklabels": false,
         "title": {
          "text": "Predictions"
         }
        },
        "yaxis": {
         "dtick": 5,
         "linecolor": "rgba(0,0,0,1)",
         "range": [
          -0.9,
          90
         ],
         "tick0": 0,
         "title": {
          "text": "Accuracy (%)"
         }
        }
       }
      },
      "text/html": [
       "<div>                            <div id=\"38132b33-e974-4100-a428-5a0dc2eea464\" class=\"plotly-graph-div\" style=\"height:400px; width:100%;\"></div>            <script type=\"text/javascript\">                require([\"plotly\"], function(Plotly) {                    window.PLOTLYENV=window.PLOTLYENV || {};                                    if (document.getElementById(\"38132b33-e974-4100-a428-5a0dc2eea464\")) {                    Plotly.newPlot(                        \"38132b33-e974-4100-a428-5a0dc2eea464\",                        [{\"marker\":{\"color\":\"rgba(225,225,225,1)\",\"line\":{\"color\":\"rgba(0,0,0,1)\",\"width\":2},\"size\":10},\"mode\":\"markers\",\"name\":\"Permuted\",\"x\":[-0.04424157016395891,-0.0431746266488943,0.03171238788433221,-0.017278547577123125,-0.04178680125152206,-0.018611722266085297,0.04214554411011323,-0.04521976487025553,-0.02395586737800505,-0.016966625083908206,0.04178560277606705,-0.02894496213168255,0.011304247538254167,-0.033405809608493875,0.033698256632910914,0.028934324729367966,0.036623858429545936,0.0021960461196715436,0.007831097442738709,-0.03261548630428897,-0.001838983192613164,0.04523634072517985,0.010278149990354778,-0.012480015328298066,0.04332342806472915,0.046969837134111056,0.03079777464363291,0.029728685147263997,0.01862381386346071,0.024064216906661842,-0.01539873943478242,0.021563959882750186,-0.03689608892844529,0.04765842199735812,-0.023076313465267576,0.03441542563564186,-0.03117704268901289,0.026967151116120733,0.03952862039649832,0.011307805459944212,0.021572621484899773,0.011613148815111475,0.04326758353940946,0.031236861122789436,-0.017811116885903158,0.04354224384063596,0.03977725577999969,-0.03152127172842531,0.016682662365894885,0.010632621298354253,-0.044583896758910384,-0.005964983032538083,-0.03104936247268192,0.04750603923589175,-0.007277011846219997,0.047761836124923226,-0.03996276132241126,-0.038331069927676244,-0.00519371312121699,0.005707223378760486,0.040178632126962474,0.04468766162944228,0.04189048554638618,0.02534639991959453,0.018247950576169167,0.012832856755791516,-0.04952916800460421,-0.001713165187655366,0.010687829313446875,0.032218680631112814,-0.00600527217913218,-0.023653594444904814,-0.03848530830584747,0.04651207330598221,-0.004051403356969477,-0.006986193480061284,0.006403576649534504,0.035323119731216476,0.00635809055350791,0.04826416979235361,0.024394782760080405,-0.027024365526977713,0.04935204492171846,-0.04891863950141814,0.04819651272572224,-0.0012318926847700168,-0.042161267270378604,-0.04986788223676805,0.029151602724111006,-0.04253292033809234,0.04279326497480729,0.01666510407612573,0.042764698942385174,0.041395448698597265,-0.01989654425409916,-0.032755939182241386,-0.0011444330535953715,0.00443099489023422,0.034443130808957084,-0.028722505745767492],\"y\":[5.846774193548387,7.056451612903226,4.435483870967742,7.661290322580645,13.306451612903226,6.653225806451613,6.048387096774194,2.1169354838709675,2.721774193548387,3.629032258064516,5.241935483870968,3.629032258064516,10.181451612903226,5.645161290322581,5.141129032258065,3.629032258064516,5.141129032258065,7.762096774193548,4.233870967741935,8.366935483870968,8.165322580645162,6.149193548387097,5.342741935483871,6.048387096774194,8.77016129032258,16.028225806451612,4.737903225806452,5.745967741935484,11.391129032258064,7.358870967741935,10.987903225806452,5.645161290322581,10.685483870967742,7.762096774193548,5.241935483870968,3.7298387096774195,7.056451612903226,5.342741935483871,4.536290322580645,8.366935483870968,7.661290322580645,6.25,9.173387096774194,8.366935483870968,7.862903225806452,9.274193548387096,9.173387096774194,11.088709677419354,6.350806451612903,2.4193548387096775,11.693548387096774,10.383064516129032,8.46774193548387,4.233870967741935,11.59274193548387,8.46774193548387,9.475806451612904,2.9233870967741935,7.459677419354839,5.645161290322581,7.560483870967742,8.46774193548387,8.366935483870968,8.366935483870968,7.762096774193548,3.7298387096774195,11.693548387096774,12.600806451612904,6.955645161290323,2.620967741935484,3.528225806451613,6.754032258064516,5.846774193548387,7.762096774193548,6.149193548387097,2.620967741935484,9.576612903225806,7.560483870967742,7.258064516129032,8.165322580645162,9.67741935483871,5.745967741935484,7.963709677419355,8.46774193548387,7.157258064516129,12.399193548387096,10.987903225806452,6.854838709677419,3.4274193548387095,8.064516129032258,7.963709677419355,10.887096774193548,10.584677419354838,6.754032258064516,3.4274193548387095,4.334677419354839,8.870967741935484,11.290322580645162,9.274193548387096,13.40725806451613],\"type\":\"scatter\"},{\"marker\":{\"color\":\"rgba(255,0,0,1)\",\"line\":{\"color\":\"rgba(0,0,0,1)\",\"width\":2},\"size\":10},\"mode\":\"markers\",\"name\":\"Test\",\"x\":[0],\"y\":[86.08870967741936],\"type\":\"scatter\"}],                        {\"template\":{\"data\":{\"histogram2dcontour\":[{\"type\":\"histogram2dcontour\",\"colorbar\":{\"outlinewidth\":0,\"ticks\":\"\"},\"colorscale\":[[0.0,\"#0d0887\"],[0.1111111111111111,\"#46039f\"],[0.2222222222222222,\"#7201a8\"],[0.3333333333333333,\"#9c179e\"],[0.4444444444444444,\"#bd3786\"],[0.5555555555555556,\"#d8576b\"],[0.6666666666666666,\"#ed7953\"],[0.7777777777777778,\"#fb9f3a\"],[0.8888888888888888,\"#fdca26\"],[1.0,\"#f0f921\"]]}],\"choropleth\":[{\"type\":\"choropleth\",\"colorbar\":{\"outlinewidth\":0,\"ticks\":\"\"}}],\"histogram2d\":[{\"type\":\"histogram2d\",\"colorbar\":{\"outlinewidth\":0,\"ticks\":\"\"},\"colorscale\":[[0.0,\"#0d0887\"],[0.1111111111111111,\"#46039f\"],[0.2222222222222222,\"#7201a8\"],[0.3333333333333333,\"#9c179e\"],[0.4444444444444444,\"#bd3786\"],[0.5555555555555556,\"#d8576b\"],[0.6666666666666666,\"#ed7953\"],[0.7777777777777778,\"#fb9f3a\"],[0.8888888888888888,\"#fdca26\"],[1.0,\"#f0f921\"]]}],\"heatmap\":[{\"type\":\"heatmap\",\"colorbar\":{\"outlinewidth\":0,\"ticks\":\"\"},\"colorscale\":[[0.0,\"#0d0887\"],[0.1111111111111111,\"#46039f\"],[0.2222222222222222,\"#7201a8\"],[0.3333333333333333,\"#9c179e\"],[0.4444444444444444,\"#bd3786\"],[0.5555555555555556,\"#d8576b\"],[0.6666666666666666,\"#ed7953\"],[0.7777777777777778,\"#fb9f3a\"],[0.8888888888888888,\"#fdca26\"],[1.0,\"#f0f921\"]]}],\"heatmapgl\":[{\"type\":\"heatmapgl\",\"colorbar\":{\"outlinewidth\":0,\"ticks\":\"\"},\"colorscale\":[[0.0,\"#0d0887\"],[0.1111111111111111,\"#46039f\"],[0.2222222222222222,\"#7201a8\"],[0.3333333333333333,\"#9c179e\"],[0.4444444444444444,\"#bd3786\"],[0.5555555555555556,\"#d8576b\"],[0.6666666666666666,\"#ed7953\"],[0.7777777777777778,\"#fb9f3a\"],[0.8888888888888888,\"#fdca26\"],[1.0,\"#f0f921\"]]}],\"contourcarpet\":[{\"type\":\"contourcarpet\",\"colorbar\":{\"outlinewidth\":0,\"ticks\":\"\"}}],\"contour\":[{\"type\":\"contour\",\"colorbar\":{\"outlinewidth\":0,\"ticks\":\"\"},\"colorscale\":[[0.0,\"#0d0887\"],[0.1111111111111111,\"#46039f\"],[0.2222222222222222,\"#7201a8\"],[0.3333333333333333,\"#9c179e\"],[0.4444444444444444,\"#bd3786\"],[0.5555555555555556,\"#d8576b\"],[0.6666666666666666,\"#ed7953\"],[0.7777777777777778,\"#fb9f3a\"],[0.8888888888888888,\"#fdca26\"],[1.0,\"#f0f921\"]]}],\"surface\":[{\"type\":\"surface\",\"colorbar\":{\"outlinewidth\":0,\"ticks\":\"\"},\"colorscale\":[[0.0,\"#0d0887\"],[0.1111111111111111,\"#46039f\"],[0.2222222222222222,\"#7201a8\"],[0.3333333333333333,\"#9c179e\"],[0.4444444444444444,\"#bd3786\"],[0.5555555555555556,\"#d8576b\"],[0.6666666666666666,\"#ed7953\"],[0.7777777777777778,\"#fb9f3a\"],[0.8888888888888888,\"#fdca26\"],[1.0,\"#f0f921\"]]}],\"mesh3d\":[{\"type\":\"mesh3d\",\"colorbar\":{\"outlinewidth\":0,\"ticks\":\"\"}}],\"scatter\":[{\"fillpattern\":{\"fillmode\":\"overlay\",\"size\":10,\"solidity\":0.2},\"type\":\"scatter\"}],\"parcoords\":[{\"type\":\"parcoords\",\"line\":{\"colorbar\":{\"outlinewidth\":0,\"ticks\":\"\"}}}],\"scatterpolargl\":[{\"type\":\"scatterpolargl\",\"marker\":{\"colorbar\":{\"outlinewidth\":0,\"ticks\":\"\"}}}],\"bar\":[{\"error_x\":{\"color\":\"#2a3f5f\"},\"error_y\":{\"color\":\"#2a3f5f\"},\"marker\":{\"line\":{\"color\":\"#E5ECF6\",\"width\":0.5},\"pattern\":{\"fillmode\":\"overlay\",\"size\":10,\"solidity\":0.2}},\"type\":\"bar\"}],\"scattergeo\":[{\"type\":\"scattergeo\",\"marker\":{\"colorbar\":{\"outlinewidth\":0,\"ticks\":\"\"}}}],\"scatterpolar\":[{\"type\":\"scatterpolar\",\"marker\":{\"colorbar\":{\"outlinewidth\":0,\"ticks\":\"\"}}}],\"histogram\":[{\"marker\":{\"pattern\":{\"fillmode\":\"overlay\",\"size\":10,\"solidity\":0.2}},\"type\":\"histogram\"}],\"scattergl\":[{\"type\":\"scattergl\",\"marker\":{\"colorbar\":{\"outlinewidth\":0,\"ticks\":\"\"}}}],\"scatter3d\":[{\"type\":\"scatter3d\",\"line\":{\"colorbar\":{\"outlinewidth\":0,\"ticks\":\"\"}},\"marker\":{\"colorbar\":{\"outlinewidth\":0,\"ticks\":\"\"}}}],\"scattermapbox\":[{\"type\":\"scattermapbox\",\"marker\":{\"colorbar\":{\"outlinewidth\":0,\"ticks\":\"\"}}}],\"scatterternary\":[{\"type\":\"scatterternary\",\"marker\":{\"colorbar\":{\"outlinewidth\":0,\"ticks\":\"\"}}}],\"scattercarpet\":[{\"type\":\"scattercarpet\",\"marker\":{\"colorbar\":{\"outlinewidth\":0,\"ticks\":\"\"}}}],\"carpet\":[{\"aaxis\":{\"endlinecolor\":\"#2a3f5f\",\"gridcolor\":\"white\",\"linecolor\":\"white\",\"minorgridcolor\":\"white\",\"startlinecolor\":\"#2a3f5f\"},\"baxis\":{\"endlinecolor\":\"#2a3f5f\",\"gridcolor\":\"white\",\"linecolor\":\"white\",\"minorgridcolor\":\"white\",\"startlinecolor\":\"#2a3f5f\"},\"type\":\"carpet\"}],\"table\":[{\"cells\":{\"fill\":{\"color\":\"#EBF0F8\"},\"line\":{\"color\":\"white\"}},\"header\":{\"fill\":{\"color\":\"#C8D4E3\"},\"line\":{\"color\":\"white\"}},\"type\":\"table\"}],\"barpolar\":[{\"marker\":{\"line\":{\"color\":\"#E5ECF6\",\"width\":0.5},\"pattern\":{\"fillmode\":\"overlay\",\"size\":10,\"solidity\":0.2}},\"type\":\"barpolar\"}],\"pie\":[{\"automargin\":true,\"type\":\"pie\"}]},\"layout\":{\"autotypenumbers\":\"strict\",\"colorway\":[\"#636efa\",\"#EF553B\",\"#00cc96\",\"#ab63fa\",\"#FFA15A\",\"#19d3f3\",\"#FF6692\",\"#B6E880\",\"#FF97FF\",\"#FECB52\"],\"font\":{\"color\":\"#2a3f5f\"},\"hovermode\":\"closest\",\"hoverlabel\":{\"align\":\"left\"},\"paper_bgcolor\":\"white\",\"plot_bgcolor\":\"#E5ECF6\",\"polar\":{\"bgcolor\":\"#E5ECF6\",\"angularaxis\":{\"gridcolor\":\"white\",\"linecolor\":\"white\",\"ticks\":\"\"},\"radialaxis\":{\"gridcolor\":\"white\",\"linecolor\":\"white\",\"ticks\":\"\"}},\"ternary\":{\"bgcolor\":\"#E5ECF6\",\"aaxis\":{\"gridcolor\":\"white\",\"linecolor\":\"white\",\"ticks\":\"\"},\"baxis\":{\"gridcolor\":\"white\",\"linecolor\":\"white\",\"ticks\":\"\"},\"caxis\":{\"gridcolor\":\"white\",\"linecolor\":\"white\",\"ticks\":\"\"}},\"coloraxis\":{\"colorbar\":{\"outlinewidth\":0,\"ticks\":\"\"}},\"colorscale\":{\"sequential\":[[0.0,\"#0d0887\"],[0.1111111111111111,\"#46039f\"],[0.2222222222222222,\"#7201a8\"],[0.3333333333333333,\"#9c179e\"],[0.4444444444444444,\"#bd3786\"],[0.5555555555555556,\"#d8576b\"],[0.6666666666666666,\"#ed7953\"],[0.7777777777777778,\"#fb9f3a\"],[0.8888888888888888,\"#fdca26\"],[1.0,\"#f0f921\"]],\"sequentialminus\":[[0.0,\"#0d0887\"],[0.1111111111111111,\"#46039f\"],[0.2222222222222222,\"#7201a8\"],[0.3333333333333333,\"#9c179e\"],[0.4444444444444444,\"#bd3786\"],[0.5555555555555556,\"#d8576b\"],[0.6666666666666666,\"#ed7953\"],[0.7777777777777778,\"#fb9f3a\"],[0.8888888888888888,\"#fdca26\"],[1.0,\"#f0f921\"]],\"diverging\":[[0,\"#8e0152\"],[0.1,\"#c51b7d\"],[0.2,\"#de77ae\"],[0.3,\"#f1b6da\"],[0.4,\"#fde0ef\"],[0.5,\"#f7f7f7\"],[0.6,\"#e6f5d0\"],[0.7,\"#b8e186\"],[0.8,\"#7fbc41\"],[0.9,\"#4d9221\"],[1,\"#276419\"]]},\"xaxis\":{\"gridcolor\":\"white\",\"linecolor\":\"white\",\"ticks\":\"\",\"title\":{\"standoff\":15},\"zerolinecolor\":\"white\",\"automargin\":true,\"zerolinewidth\":2},\"yaxis\":{\"gridcolor\":\"white\",\"linecolor\":\"white\",\"ticks\":\"\",\"title\":{\"standoff\":15},\"zerolinecolor\":\"white\",\"automargin\":true,\"zerolinewidth\":2},\"scene\":{\"xaxis\":{\"backgroundcolor\":\"#E5ECF6\",\"gridcolor\":\"white\",\"linecolor\":\"white\",\"showbackground\":true,\"ticks\":\"\",\"zerolinecolor\":\"white\",\"gridwidth\":2},\"yaxis\":{\"backgroundcolor\":\"#E5ECF6\",\"gridcolor\":\"white\",\"linecolor\":\"white\",\"showbackground\":true,\"ticks\":\"\",\"zerolinecolor\":\"white\",\"gridwidth\":2},\"zaxis\":{\"backgroundcolor\":\"#E5ECF6\",\"gridcolor\":\"white\",\"linecolor\":\"white\",\"showbackground\":true,\"ticks\":\"\",\"zerolinecolor\":\"white\",\"gridwidth\":2}},\"shapedefaults\":{\"line\":{\"color\":\"#2a3f5f\"}},\"annotationdefaults\":{\"arrowcolor\":\"#2a3f5f\",\"arrowhead\":0,\"arrowwidth\":1},\"geo\":{\"bgcolor\":\"white\",\"landcolor\":\"#E5ECF6\",\"subunitcolor\":\"white\",\"showland\":true,\"showlakes\":true,\"lakecolor\":\"white\"},\"title\":{\"x\":0.05},\"mapbox\":{\"style\":\"light\"}}},\"xaxis\":{\"title\":{\"text\":\"Predictions\"},\"linecolor\":\"rgba(0,0,0,1)\",\"range\":[-0.5,0.5],\"showticklabels\":false},\"yaxis\":{\"title\":{\"text\":\"Accuracy (%)\"},\"linecolor\":\"rgba(0,0,0,1)\",\"range\":[-0.9,90],\"tick0\":0,\"dtick\":5},\"margin\":{\"l\":450,\"r\":450,\"t\":50,\"b\":50},\"paper_bgcolor\":\"rgba(0, 0, 0, 0)\",\"plot_bgcolor\":\"rgba(0, 0, 0, 0)\",\"height\":400},                        {\"responsive\": true}                    ).then(function(){\n",
       "                            \n",
       "var gd = document.getElementById('38132b33-e974-4100-a428-5a0dc2eea464');\n",
       "var x = new MutationObserver(function (mutations, observer) {{\n",
       "        var display = window.getComputedStyle(gd).display;\n",
       "        if (!display || display === 'none') {{\n",
       "            console.log([gd, 'removed!']);\n",
       "            Plotly.purge(gd);\n",
       "            observer.disconnect();\n",
       "        }}\n",
       "}});\n",
       "\n",
       "// Listen for the removal of the full notebook cells\n",
       "var notebookContainer = gd.closest('#notebook-container');\n",
       "if (notebookContainer) {{\n",
       "    x.observe(notebookContainer, {childList: true});\n",
       "}}\n",
       "\n",
       "// Listen for the clearing of the current output cell\n",
       "var outputEl = gd.closest('.output');\n",
       "if (outputEl) {{\n",
       "    x.observe(outputEl, {childList: true});\n",
       "}}\n",
       "\n",
       "                        })                };                });            </script>        </div>"
      ]
     },
     "metadata": {},
     "output_type": "display_data"
    }
   ],
   "source": [
    "fig3 = go.Figure()\n",
    "dfst_rms=np.zeros(100)\n",
    "xrt=0.1*np.random.rand(100)-.05\n",
    "\n",
    "for i in np.arange(np.shape(sft)[0]):\n",
    "    dfst = pd.read_csv(sft[i])\n",
    "    dfst_rms[i] = 100*sum(dfst.correctness)/len(dfst.correctness)\n",
    "\n",
    "fig3.add_trace(go.Scatter(x=xr,y=dfst_rms,\n",
    "                          mode='markers',\n",
    "                          name='Permuted',\n",
    "                          marker=dict(size=10,\n",
    "                                      color='rgba(225,225,225,1)',\n",
    "                                      line=dict(width=2,\n",
    "                                               color='rgba(0,0,0,1)')\n",
    "                          )))\n",
    "fig3.add_trace(go.Scatter(x=[0],y=[100*sum(dfgt.correctness)/len(dfgt.correctness)],\n",
    "                          mode='markers',\n",
    "                          name='Test',\n",
    "                          marker=dict(size=10,\n",
    "                                     color='rgba(255,0,0,1)',\n",
    "                                     line=dict(width=2,\n",
    "                                              color='rgba(0,0,0,1)')\n",
    "                                     )\n",
    "                         )\n",
    "              )\n",
    "\n",
    "fig3.update_xaxes(linecolor='rgba(0,0,0,1)',\n",
    "                  range=[-0.5,.5],\n",
    "                  showticklabels=False,\n",
    "                  title_text='Predictions',\n",
    "                )\n",
    "fig3.update_yaxes(linecolor='rgba(0,0,0,1)',\n",
    "                  range=[-0.9,90],\n",
    "                  tick0=0,\n",
    "                  dtick=5,\n",
    "                 title_text='Accuracy (%)'\n",
    "                )\n",
    "fig3.update_layout(\n",
    "    paper_bgcolor='rgba(0, 0, 0, 0)',\n",
    "    plot_bgcolor='rgba(0, 0, 0, 0)',\n",
    "    margin=dict(l=450, r=450, t=50, b=50),\n",
    "    height=400\n",
    ")"
   ]
  },
  {
   "cell_type": "code",
   "execution_count": null,
   "id": "12239ac9",
   "metadata": {},
   "outputs": [],
   "source": []
  }
 ],
 "metadata": {
  "kernelspec": {
   "display_name": "Python 3 (ipykernel)",
   "language": "python",
   "name": "python3"
  },
  "language_info": {
   "codemirror_mode": {
    "name": "ipython",
    "version": 3
   },
   "file_extension": ".py",
   "mimetype": "text/x-python",
   "name": "python",
   "nbconvert_exporter": "python",
   "pygments_lexer": "ipython3",
   "version": "3.9.13"
  }
 },
 "nbformat": 4,
 "nbformat_minor": 5
}
